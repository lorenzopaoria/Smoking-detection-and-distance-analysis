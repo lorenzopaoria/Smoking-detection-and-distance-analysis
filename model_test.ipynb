{
  "nbformat": 4,
  "nbformat_minor": 0,
  "metadata": {
    "colab": {
      "provenance": [],
      "mount_file_id": "1zPN1xKa_0qbApVgPxQCp_0QfaaFNmul5",
      "authorship_tag": "ABX9TyPm7ZsuWCYQc4MraZ8tdhGj",
      "include_colab_link": true
    },
    "kernelspec": {
      "name": "python3",
      "display_name": "Python 3"
    },
    "language_info": {
      "name": "python"
    }
  },
  "cells": [
    {
      "cell_type": "markdown",
      "metadata": {
        "id": "view-in-github",
        "colab_type": "text"
      },
      "source": [
        "<a href=\"https://colab.research.google.com/github/lorenzopaoria/Smoking-detection-and-distance-analysis/blob/main/model_test.ipynb\" target=\"_parent\"><img src=\"https://colab.research.google.com/assets/colab-badge.svg\" alt=\"Open In Colab\"/></a>"
      ]
    },
    {
      "cell_type": "code",
      "execution_count": null,
      "metadata": {
        "id": "2hhcAycr4fy9"
      },
      "outputs": [],
      "source": [
        "import torch\n",
        "import torch.nn as nn\n",
        "import torchvision.transforms as transforms\n",
        "import torchvision.utils as vutils\n",
        "import matplotlib.pyplot as plt\n",
        "from torch.utils.data import DataLoader, Dataset\n",
        "from torchvision.io import read_image\n",
        "from torchvision.ops import nms\n",
        "from torchvision.utils import draw_bounding_boxes\n",
        "import os\n",
        "from PIL import Image\n",
        "from pathlib import Path"
      ]
    },
    {
      "cell_type": "code",
      "source": [
        "from google.colab import drive\n",
        "drive.mount('/content/drive')"
      ],
      "metadata": {
        "id": "UUVkgkFH6uBJ"
      },
      "execution_count": null,
      "outputs": []
    },
    {
      "cell_type": "code",
      "source": [
        "CLASS_NAMES = [\"sigarette\", \"smoker\", \"non_smoker\"]\n",
        "MODEL_PATH = '/content/drive/MyDrive/pth_epoch/model_epoch_10'\n",
        "OUTPUT_DIR = '/content/drive/MyDrive/test_trained'\n",
        "\n",
        "os.makedirs(OUTPUT_DIR, exist_ok=True)"
      ],
      "metadata": {
        "id": "ydFnSyXa4kRH"
      },
      "execution_count": null,
      "outputs": []
    },
    {
      "cell_type": "code",
      "source": [
        "class TestDataset(Dataset):\n",
        "    def __init__(self, test_dir, transform=None):\n",
        "        self.test_dir = Path(test_dir)\n",
        "        self.image_files = list(self.test_dir.glob('*.[jp][pn][g]'))\n",
        "        self.transform = transform or transforms.Compose([\n",
        "            transforms.Resize((640, 640)),\n",
        "            transforms.ToTensor(),\n",
        "        ])\n",
        "\n",
        "    def __len__(self):\n",
        "        return len(self.image_files)\n",
        "\n",
        "    def __getitem__(self, idx):\n",
        "        img_path = str(self.image_files[idx])\n",
        "        image = Image.open(img_path).convert('RGB')\n",
        "\n",
        "        if self.transform:\n",
        "            image = self.transform(image)\n",
        "\n",
        "        return image, img_path\n"
      ],
      "metadata": {
        "id": "iYnf8CVW4rHA"
      },
      "execution_count": null,
      "outputs": []
    },
    {
      "cell_type": "code",
      "source": [
        "def load_model(model_path):\n",
        "    device = torch.device(\"cuda\" if torch.cuda.is_available() else \"cpu\")\n",
        "    model = torch.load(model_path, map_location=device)\n",
        "    model.eval()\n",
        "    return model, device"
      ],
      "metadata": {
        "id": "8Vb8u3Rv47KU"
      },
      "execution_count": null,
      "outputs": []
    },
    {
      "cell_type": "code",
      "source": [
        "def draw_predictions(image, boxes, labels, scores, output_path):\n",
        "    \"\"\"Disegna le bounding box sulle immagini e salva il risultato\"\"\"\n",
        "    image = (image * 255).byte()\n",
        "\n",
        "    colors = [\"red\", \"green\", \"blue\"]\n",
        "\n",
        "    labels_text = [f\"{CLASS_NAMES[int(l)]}: {s:.2f}\" for l, s in zip(labels, scores)]\n",
        "\n",
        "    image_with_boxes = draw_bounding_boxes(\n",
        "        image.squeeze(0),\n",
        "        boxes,\n",
        "        labels=labels_text,\n",
        "        colors=colors,\n",
        "        width=2\n",
        "    )\n",
        "\n",
        "    image_with_boxes = image_with_boxes.permute(1, 2, 0).numpy()\n",
        "    plt.figure(figsize=(12, 8))\n",
        "    plt.imshow(image_with_boxes)\n",
        "    plt.axis('off')\n",
        "    plt.savefig(output_path, bbox_inches='tight', pad_inches=0)\n",
        "    plt.close()"
      ],
      "metadata": {
        "id": "D85bn-C_4-i5"
      },
      "execution_count": null,
      "outputs": []
    },
    {
      "cell_type": "code",
      "source": [
        "def evaluate_model(model, device, test_loader):\n",
        "    \"\"\"Valuta il modello e salva le immagini con le predizioni\"\"\"\n",
        "    model.to(device)\n",
        "\n",
        "    with torch.no_grad():\n",
        "        for i, (images, img_paths) in enumerate(test_loader):\n",
        "            images = images.to(device)\n",
        "\n",
        "            predictions = model(images)\n",
        "\n",
        "            for j, (prediction, img_path) in enumerate(zip(predictions, img_paths)):\n",
        "                boxes = prediction['boxes']\n",
        "                scores = prediction['scores']\n",
        "                labels = prediction['labels']\n",
        "\n",
        "                mask = scores > 0.5\n",
        "                boxes = boxes[mask]\n",
        "                scores = scores[mask]\n",
        "                labels = labels[mask]\n",
        "\n",
        "                if len(boxes) > 0:\n",
        "                    output_filename = f\"prediction_{i}_{j}.png\"\n",
        "                    output_path = os.path.join(OUTPUT_DIR, output_filename)\n",
        "\n",
        "                    draw_predictions(\n",
        "                        images[j].cpu(),\n",
        "                        boxes.cpu(),\n",
        "                        labels.cpu(),\n",
        "                        scores.cpu(),\n",
        "                        output_path\n",
        "                    )\n",
        "\n",
        "                    print(f\"Saved predictions for {img_path} to {output_path}\")"
      ],
      "metadata": {
        "id": "L7w33YdZV7OG"
      },
      "execution_count": null,
      "outputs": []
    },
    {
      "cell_type": "code",
      "source": [
        "if __name__ == \"__main__\":\n",
        "    test_dataset = TestDataset('/content/drive/MyDrive/Photo/test')\n",
        "    test_loader = DataLoader(test_dataset, batch_size=1, shuffle=False)\n",
        "\n",
        "    model, device = load_model(MODEL_PATH)\n",
        "\n",
        "    evaluate_model(model, device, test_loader)"
      ],
      "metadata": {
        "id": "XHreuuOI5BbC"
      },
      "execution_count": null,
      "outputs": []
    }
  ]
}