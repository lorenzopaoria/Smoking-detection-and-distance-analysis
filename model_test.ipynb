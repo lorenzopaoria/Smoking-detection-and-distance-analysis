{
  "nbformat": 4,
  "nbformat_minor": 0,
  "metadata": {
    "colab": {
      "provenance": [],
      "mount_file_id": "1zPN1xKa_0qbApVgPxQCp_0QfaaFNmul5",
      "authorship_tag": "ABX9TyMB7UNQMCqsNU2Xfwr7/LuG",
      "include_colab_link": true
    },
    "kernelspec": {
      "name": "python3",
      "display_name": "Python 3"
    },
    "language_info": {
      "name": "python"
    }
  },
  "cells": [
    {
      "cell_type": "markdown",
      "metadata": {
        "id": "view-in-github",
        "colab_type": "text"
      },
      "source": [
        "<a href=\"https://colab.research.google.com/github/lorenzopaoria/Smoking-detection-and-distance-analysis/blob/main/model_test.ipynb\" target=\"_parent\"><img src=\"https://colab.research.google.com/assets/colab-badge.svg\" alt=\"Open In Colab\"/></a>"
      ]
    },
    {
      "cell_type": "code",
      "execution_count": null,
      "metadata": {
        "id": "2hhcAycr4fy9"
      },
      "outputs": [],
      "source": [
        "import torch\n",
        "import torch.nn as nn\n",
        "import torch.optim as optim\n",
        "import torchvision.transforms as transforms\n",
        "import torchvision.datasets as datasets\n",
        "import torchvision.utils as vutils\n",
        "import matplotlib.pyplot as plt\n",
        "from torch.utils.data import DataLoader\n",
        "from torchvision.ops import nms\n",
        "from torchvision.utils import draw_bounding_boxes"
      ]
    },
    {
      "cell_type": "code",
      "source": [
        "from google.colab import drive\n",
        "drive.mount('/content/drive')"
      ],
      "metadata": {
        "id": "UUVkgkFH6uBJ"
      },
      "execution_count": null,
      "outputs": []
    },
    {
      "cell_type": "code",
      "source": [
        "# Percorso del file .pth\n",
        "MODEL_PATH = '/content/drive/MyDrive/pth_epoch/model_epoch_10' # Cambia con il nome effettivo del file\n",
        "\n",
        "# Definizione delle classi\n",
        "CLASS_NAMES = [\"sigarette\", \"smoker\", \"non_smoker\"]\n",
        "\n",
        "# Caricamento del dataset di test (sostituisci con il tuo dataset)\n",
        "test_dataset = datasets.MNIST(root='/content/drive/MyDrive/Photo/test', train=False, download=True)\n",
        "test_loader = DataLoader(test_dataset, batch_size=1, shuffle=False)"
      ],
      "metadata": {
        "id": "ydFnSyXa4kRH"
      },
      "execution_count": null,
      "outputs": []
    },
    {
      "cell_type": "code",
      "source": [
        "def load_model(model_path):\n",
        "    \"\"\"Carica il modello salvato su CUDA se disponibile\"\"\"\n",
        "    device = torch.device(\"cuda\" if torch.cuda.is_available() else \"cpu\")\n",
        "    model = MyModel().to(device)  # Sostituisci con la tua architettura di rete\n",
        "    model.load_state_dict(torch.load(model_path, map_location=device))\n",
        "    model.eval()\n",
        "    return model, device"
      ],
      "metadata": {
        "id": "iYnf8CVW4rHA"
      },
      "execution_count": null,
      "outputs": []
    },
    {
      "cell_type": "code",
      "source": [
        "def draw_predictions(images, boxes, labels, scores):\n",
        "    \"\"\"Disegna le bounding box sulle immagini\"\"\"\n",
        "    images = (images * 255).byte()\n",
        "    colors = [\"red\", \"green\", \"blue\"]\n",
        "    labels_text = [f\"{CLASS_NAMES[l]}: {s:.2f}\" for l, s in zip(labels, scores)]\n",
        "    image_with_boxes = draw_bounding_boxes(images.squeeze(0), boxes, labels=labels_text, colors=colors)\n",
        "    return image_with_boxes"
      ],
      "metadata": {
        "id": "8Vb8u3Rv47KU"
      },
      "execution_count": null,
      "outputs": []
    },
    {
      "cell_type": "code",
      "source": [
        "def evaluate_model(model, device, test_loader):\n",
        "    \"\"\"Valuta il modello e visualizza le bounding box sulle immagini\"\"\"\n",
        "    model.to(device)\n",
        "    with torch.no_grad():\n",
        "        for images, _ in test_loader:\n",
        "            images = images.to(device)\n",
        "            outputs = model(images)  # Supponiamo che restituisca boxes, labels, scores\n",
        "            boxes, labels, scores = outputs[\"boxes\"], outputs[\"labels\"], outputs[\"scores\"]\n",
        "\n",
        "            # Filtra le predizioni con soglia di confidenza > 0.5\n",
        "            keep = scores > 0.5\n",
        "            boxes, labels, scores = boxes[keep], labels[keep], scores[keep]\n",
        "\n",
        "            if len(boxes) > 0:\n",
        "                image_with_boxes = draw_predictions(images.cpu(), boxes.cpu(), labels.cpu(), scores.cpu())\n",
        "                plt.imshow(image_with_boxes.permute(1, 2, 0))\n",
        "                plt.axis(\"off\")\n",
        "                plt.show()\n"
      ],
      "metadata": {
        "id": "D85bn-C_4-i5"
      },
      "execution_count": null,
      "outputs": []
    },
    {
      "cell_type": "code",
      "source": [
        "if __name__ == \"__main__\":\n",
        "    model, device = load_model(MODEL_PATH)\n",
        "    evaluate_model(model, device, test_loader)"
      ],
      "metadata": {
        "id": "XHreuuOI5BbC"
      },
      "execution_count": null,
      "outputs": []
    }
  ]
}