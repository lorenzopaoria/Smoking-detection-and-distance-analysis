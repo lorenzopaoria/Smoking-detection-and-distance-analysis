{
  "cells": [
    {
      "cell_type": "markdown",
      "metadata": {
        "colab_type": "text",
        "id": "view-in-github"
      },
      "source": [
        "<a href=\"https://colab.research.google.com/github/lorenzopaoria/Smoking-detection-and-distance-analysis/blob/main/model_test.ipynb\" target=\"_parent\"><img src=\"https://colab.research.google.com/assets/colab-badge.svg\" alt=\"Open In Colab\"/></a>"
      ]
    },
    {
      "cell_type": "markdown",
      "metadata": {
        "id": "Tp1u0ep9ibJW"
      },
      "source": [
        "Create a model and import weights from pretained model\n"
      ]
    },
    {
      "cell_type": "code",
      "execution_count": 19,
      "metadata": {
        "id": "2hhcAycr4fy9"
      },
      "outputs": [],
      "source": [
        "import torch\n",
        "import torch.nn as nn\n",
        "import torchvision\n",
        "import torchvision.transforms as transforms\n",
        "import torchvision.utils as vutils\n",
        "import matplotlib.pyplot as plt\n",
        "from torch.utils.data import DataLoader, Dataset\n",
        "from torchvision.io import read_image\n",
        "from torchvision.ops import nms\n",
        "from torchvision.utils import draw_bounding_boxes\n",
        "import os\n",
        "from PIL import Image\n",
        "from pathlib import Path"
      ]
    },
    {
      "cell_type": "code",
      "execution_count": 20,
      "metadata": {
        "colab": {
          "base_uri": "https://localhost:8080/"
        },
        "id": "UUVkgkFH6uBJ",
        "outputId": "5e44e856-4559-44f8-fecc-b5ecc6299e66"
      },
      "outputs": [
        {
          "name": "stdout",
          "output_type": "stream",
          "text": [
            "Drive already mounted at /content/drive; to attempt to forcibly remount, call drive.mount(\"/content/drive\", force_remount=True).\n"
          ]
        }
      ],
      "source": [
        "from google.colab import drive\n",
        "drive.mount('/content/drive')"
      ]
    },
    {
      "cell_type": "code",
      "execution_count": 21,
      "metadata": {
        "id": "ydFnSyXa4kRH"
      },
      "outputs": [],
      "source": [
        "CLASS_NAMES = [\"background\", \"cigarette\", \"smoker\", \"nonSmoker\"]\n",
        "NUM_CLASSES = len(CLASS_NAMES)\n",
        "MODEL_PATH = '/content/drive/MyDrive/pth_epoch/best_model.pth'\n",
        "TEST_DIR = '/content/drive/MyDrive/Photo/test'\n",
        "OUTPUT_DIR = '/content/drive/MyDrive/test_trained'\n",
        "\n",
        "os.makedirs(OUTPUT_DIR, exist_ok=True)"
      ]
    },
    {
      "cell_type": "code",
      "execution_count": 22,
      "metadata": {
        "id": "VR6zNMPIYbkf"
      },
      "outputs": [],
      "source": [
        "def get_model():\n",
        "    model = torchvision.models.detection.fasterrcnn_resnet50_fpn(Weights=False)\n",
        "\n",
        "    in_features = model.roi_heads.box_predictor.cls_score.in_features\n",
        "    model.roi_heads.box_predictor = torchvision.models.detection.faster_rcnn.FastRCNNPredictor(\n",
        "        in_features, NUM_CLASSES)\n",
        "\n",
        "    return model"
      ]
    },
    {
      "cell_type": "code",
      "execution_count": 23,
      "metadata": {
        "id": "vcQ4UXcgYlxG"
      },
      "outputs": [],
      "source": [
        "def load_model(model_path):\n",
        "    \"\"\"Carica il modello salvato\"\"\"\n",
        "    if not os.path.exists(model_path):\n",
        "        raise FileNotFoundError(f\"Il file del modello non esiste: {model_path}\")\n",
        "\n",
        "    print(f\"Caricamento del modello da {model_path}\")\n",
        "    device = torch.device(\"cuda\" if torch.cuda.is_available() else \"cpu\")\n",
        "    print(f\"Utilizzo device: {device}\")\n",
        "\n",
        "    try:\n",
        "        model = get_model()\n",
        "        checkpoint = torch.load(model_path, map_location=device)\n",
        "\n",
        "        if \"model_state_dict\" in checkpoint:\n",
        "            model.load_state_dict(checkpoint[\"model_state_dict\"])\n",
        "        else:\n",
        "            model.load_state_dict(checkpoint)\n",
        "\n",
        "        model.to(device)\n",
        "        model.eval()\n",
        "        print(\"Modello caricato con successo\")\n",
        "        return model, device\n",
        "\n",
        "    except Exception as e:\n",
        "        print(f\"Errore nel caricamento del modello: {str(e)}\")\n",
        "        raise"
      ]
    },
    {
      "cell_type": "code",
      "execution_count": 24,
      "metadata": {
        "id": "iYnf8CVW4rHA"
      },
      "outputs": [],
      "source": [
        "class TestDataset(Dataset):\n",
        "    def __init__(self, test_dir, transform=None):\n",
        "        self.test_dir = Path(test_dir)\n",
        "        if not self.test_dir.exists():\n",
        "            raise FileNotFoundError(f\"La directory {test_dir} non esiste!\")\n",
        "\n",
        "        self.image_files = list(self.test_dir.glob('*.[jp][pn][g]'))\n",
        "        if not self.image_files:\n",
        "            raise FileNotFoundError(f\"Nessuna immagine trovata in {test_dir}\")\n",
        "\n",
        "        print(f\"Trovate {len(self.image_files)} immagini in {test_dir}\")\n",
        "\n",
        "        self.transform = transform or transforms.Compose([\n",
        "            transforms.Resize((800, 800)),\n",
        "            transforms.ToTensor(),\n",
        "            transforms.Normalize(mean=[0.485, 0.456, 0.406],\n",
        "                              std=[0.229, 0.224, 0.225])\n",
        "        ])\n",
        "\n",
        "    def __len__(self):\n",
        "        return len(self.image_files)\n",
        "\n",
        "    def __getitem__(self, idx):\n",
        "        img_path = str(self.image_files[idx])\n",
        "        try:\n",
        "            image = Image.open(img_path).convert('RGB')\n",
        "            if self.transform:\n",
        "                image = self.transform(image)\n",
        "            return image, img_path\n",
        "        except Exception as e:\n",
        "            print(f\"Errore nel caricamento dell'immagine {img_path}: {str(e)}\")\n",
        "            raise"
      ]
    },
    {
      "cell_type": "code",
      "execution_count": 25,
      "metadata": {
        "id": "D85bn-C_4-i5"
      },
      "outputs": [],
      "source": [
        "def draw_predictions(image, boxes, labels, scores, output_path):\n",
        "    \"\"\"Disegna le bounding box sulle immagini e salva il risultato con maggiori dettagli di debug\"\"\"\n",
        "    try:\n",
        "        image = image * torch.tensor([0.229, 0.224, 0.225])[:, None, None]\n",
        "        image = image + torch.tensor([0.485, 0.456, 0.406])[:, None, None]\n",
        "        image = (image * 255).byte()\n",
        "\n",
        "        def get_color(label):\n",
        "            class_name = CLASS_NAMES[label]  # Rimuovi il -1 qui, per adattarlo alla tua logica\n",
        "            print(f\"Label: {label}, Class Name: {class_name}, Colore: \", end=\"\")\n",
        "            print(f\"Class Name: {class_name} - Label: {label}\")\n",
        "            if class_name == 'cigarette':\n",
        "                print(\"Rosso\")\n",
        "                return 'red'\n",
        "            elif class_name == 'nonSmoker':\n",
        "                print(\"Blu\")\n",
        "                return 'blue'\n",
        "            elif class_name == 'smoker':\n",
        "                print(\"Verde\")  # Questo dovrebbe essere \"Blu\"\n",
        "                return 'green'\n",
        "            print(\"Bianco (default)\")\n",
        "            return 'white'\n",
        "\n",
        "\n",
        "        # Debug: Print all detections\n",
        "        print(\"\\nDetection Details:\")\n",
        "        for label, score in zip(labels, scores):\n",
        "            class_name = CLASS_NAMES[label-1]\n",
        "            print(f\"Label: {label}, Class: {class_name}, Score: {score.item():.2f}\")\n",
        "\n",
        "        colors = [get_color(label) for label in labels]\n",
        "\n",
        "        labels_text = [f\"{CLASS_NAMES[int(l)-1]}: {s:.2f}\" for l, s in zip(labels, scores)]\n",
        "\n",
        "        image_with_boxes = draw_bounding_boxes(\n",
        "            image,\n",
        "            boxes,\n",
        "            labels=labels_text,\n",
        "            colors=colors,\n",
        "            width=2\n",
        "        )\n",
        "\n",
        "        image_with_boxes = image_with_boxes.permute(1, 2, 0).numpy()\n",
        "        plt.figure(figsize=(12, 8))\n",
        "        plt.imshow(image_with_boxes)\n",
        "        plt.axis('off')\n",
        "        plt.savefig(output_path, bbox_inches='tight', pad_inches=0)\n",
        "        plt.close()\n",
        "\n",
        "        print(f\"Salvata immagine con predizioni in {output_path}\")\n",
        "    except Exception as e:\n",
        "        print(f\"Errore nel disegno delle predizioni: {str(e)}\")\n",
        "        raise"
      ]
    },
    {
      "cell_type": "code",
      "execution_count": 26,
      "metadata": {
        "id": "L7w33YdZV7OG"
      },
      "outputs": [],
      "source": [
        "def evaluate_model(model, device, test_loader):\n",
        "    \"\"\"Valuta il modello e salva le immagini con le predizioni\"\"\"\n",
        "    model.to(device)\n",
        "\n",
        "    print(\"Inizio valutazione del modello...\")\n",
        "    with torch.no_grad():\n",
        "        for i, (images, img_paths) in enumerate(test_loader):\n",
        "            print(f\"\\nProcessing batch {i+1}/{len(test_loader)}\")\n",
        "\n",
        "            try:\n",
        "                images = images.to(device)\n",
        "                predictions = model(images)\n",
        "\n",
        "                for j, (prediction, img_path) in enumerate(zip(predictions, img_paths)):\n",
        "                    boxes = prediction['boxes']\n",
        "                    scores = prediction['scores']\n",
        "                    labels = prediction['labels']\n",
        "\n",
        "                    mask = scores > 0.5\n",
        "                    boxes = boxes[mask]\n",
        "                    scores = scores[mask]\n",
        "                    labels = labels[mask]\n",
        "\n",
        "                    if len(boxes) > 0:\n",
        "                        base_name = os.path.basename(img_path)\n",
        "                        output_filename = f\"pred_{base_name}\"\n",
        "                        output_path = os.path.join(OUTPUT_DIR, output_filename)\n",
        "\n",
        "                        draw_predictions(\n",
        "                            images[j].cpu(),\n",
        "                            boxes.cpu(),\n",
        "                            labels.cpu(),\n",
        "                            scores.cpu(),\n",
        "                            output_path\n",
        "                        )\n",
        "\n",
        "                        print(f\"Processata immagine: {base_name}\")\n",
        "                    else:\n",
        "                        print(f\"Nessuna predizione sopra la soglia per {os.path.basename(img_path)}\")\n",
        "            except Exception as e:\n",
        "                print(f\"Errore nel processing del batch {i+1}: {str(e)}\")\n",
        "                continue"
      ]
    },
    {
      "cell_type": "code",
      "execution_count": null,
      "metadata": {
        "colab": {
          "base_uri": "https://localhost:8080/"
        },
        "id": "XHreuuOI5BbC",
        "outputId": "11c3a0cd-dc8b-4e63-e060-336776cdbb8d"
      },
      "outputs": [],
      "source": [
        "if __name__ == \"__main__\":\n",
        "    try:\n",
        "        print(\"Inizializzazione...\")\n",
        "\n",
        "        os.makedirs(OUTPUT_DIR, exist_ok=True)\n",
        "\n",
        "        for path in [os.path.dirname(MODEL_PATH), TEST_DIR]:\n",
        "            if not os.path.exists(path):\n",
        "                raise FileNotFoundError(f\"Directory non trovata: {path}\")\n",
        "\n",
        "        print(\"\\nCreazione dataset di test...\")\n",
        "        test_dataset = TestDataset(TEST_DIR)\n",
        "        test_loader = DataLoader(test_dataset, batch_size=1, shuffle=False)\n",
        "\n",
        "        print(\"\\nCaricamento modello...\")\n",
        "        model, device = load_model(MODEL_PATH)\n",
        "\n",
        "        print(\"\\nInizio valutazione...\")\n",
        "        evaluate_model(model, device, test_loader)\n",
        "\n",
        "        print(\"\\nProcessing completato con successo!\")\n",
        "\n",
        "    except Exception as e:\n",
        "        print(f\"\\nErrore durante l'esecuzione: {str(e)}\")"
      ]
    }
  ],
  "metadata": {
    "accelerator": "GPU",
    "colab": {
      "gpuType": "T4",
      "include_colab_link": true,
      "provenance": []
    },
    "kernelspec": {
      "display_name": "Python 3",
      "name": "python3"
    },
    "language_info": {
      "name": "python"
    }
  },
  "nbformat": 4,
  "nbformat_minor": 0
}
