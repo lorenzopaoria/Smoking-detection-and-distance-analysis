{
  "cells": [
    {
      "cell_type": "markdown",
      "metadata": {
        "colab_type": "text",
        "id": "view-in-github"
      },
      "source": [
        "<a href=\"https://colab.research.google.com/github/lorenzopaoria/Smoking-detection-and-distance-analysis/blob/main/model_train_person_cigarette.ipynb\" target=\"_parent\"><img src=\"https://colab.research.google.com/assets/colab-badge.svg\" alt=\"Open In Colab\"/></a>"
      ]
    },
    {
      "cell_type": "markdown",
      "metadata": {
        "id": "jW-6xHSkVRra"
      },
      "source": [
        "Train a model for sigarette, person detection"
      ]
    },
    {
      "cell_type": "code",
      "execution_count": null,
      "metadata": {
        "id": "seoMpCySVZL6"
      },
      "outputs": [],
      "source": [
        "pip install ultralytics"
      ]
    },
    {
      "cell_type": "code",
      "execution_count": null,
      "metadata": {
        "id": "MSPrRYf-UiIR"
      },
      "outputs": [],
      "source": [
        "from ultralytics import YOLO\n",
        "import torch\n",
        "from pathlib import Path\n",
        "import json\n",
        "from datetime import datetime\n",
        "import psutil\n",
        "from tqdm.auto import tqdm"
      ]
    },
    {
      "cell_type": "code",
      "execution_count": null,
      "metadata": {
        "colab": {
          "base_uri": "https://localhost:8080/"
        },
        "id": "mNZIwrXGVosy",
        "outputId": "4471c318-cff5-411a-def8-e8d1c22c2619"
      },
      "outputs": [
        {
          "name": "stdout",
          "output_type": "stream",
          "text": [
            "Drive already mounted at /content/drive; to attempt to forcibly remount, call drive.mount(\"/content/drive\", force_remount=True).\n"
          ]
        }
      ],
      "source": [
        "from google.colab import drive\n",
        "drive.mount('/content/drive')"
      ]
    },
    {
      "cell_type": "code",
      "execution_count": null,
      "metadata": {
        "id": "WJ3acR5eWBtH"
      },
      "outputs": [],
      "source": [
        "class ModelCallback:\n",
        "    def __init__(self, save_dir, epochs, patience=10, min_improvement=0.001):\n",
        "        self.save_dir = Path(save_dir)\n",
        "        self.save_dir.mkdir(parents=True, exist_ok=True)\n",
        "        self.best_map = 0\n",
        "        self.patience = patience\n",
        "        self.min_improvement = min_improvement\n",
        "        self.epochs_without_improvement = 0\n",
        "        self.training_history = []\n",
        "        self.epochs_pbar = tqdm(total=epochs, desc=\"Training Progress\", position=0)\n",
        "        self.current_epoch = 0\n",
        "\n",
        "   #stop del training in base a valori map\n"
        "    def should_stop_training(self, val_map):\n",
        "        if val_map > (self.best_map + self.min_improvement):\n",
        "            self.best_map = val_map\n",
        "            self.epochs_without_improvement = 0\n",
        "            return False\n",
        "        else:\n",
        "            self.epochs_without_improvement += 1\n",
        "            if self.epochs_without_improvement >= self.patience:\n",
        "                print(f\"\\nStopping training: No improvement in mAP for {self.patience} epochs\")\n",
        "                print(f\"Best mAP achieved: {self.best_map:.4f}\")\n",
        "                return True\n",
        "        return False\n",
        "\n",
        "    def on_train_batch_end(self, trainer):\n",
        "        pass\n",
        "\n",
        "    def on_train_epoch_end(self, trainer):\n",
        "        metrics = trainer.metrics\n",
        "        epoch = trainer.epoch\n",
        "        current_map = metrics.get('metrics/mAP50-95(B)', 0)\n",
        "\n",
        "        val_results = trainer.model.val(verbose=False)\n",
        "        val_map = val_results.box.map\n",
        "        val_map50 = val_results.box.map50\n",
        "\n",
        "        self.training_history.append({\n",
        "            'epoch': epoch,\n",
        "            'train_mAP': current_map,\n",
        "            'val_mAP': val_map,\n",
        "            'val_mAP50': val_map50,\n",
        "            'metrics': metrics\n",
        "        })\n",
        "\n",
        "        with open(self.save_dir / 'training_history.json', 'w') as f:\n",
        "            json.dump(self.training_history, f, indent=4)\n",
        "\n",
        "        if val_map > self.best_map:\n",
        "            best_path = self.save_dir / f'best_model_map_{val_map:.4f}.pth'\n",
        "            torch.save({\n",
        "                'epoch': epoch,\n",
        "                'model_state_dict': trainer.model.state_dict(),\n",
        "                'val_map': val_map,\n",
        "                'val_map50': val_map50,\n",
        "                'train_map': current_map\n",
        "            }, best_path)\n",
        "\n",
        "        last_path = self.save_dir / 'last_model.pth'\n",
        "        torch.save({\n",
        "            'epoch': epoch,\n",
        "            'model_state_dict': trainer.model.state_dict(),\n",
        "            'val_map': val_map,\n",
        "            'val_map50': val_map50,\n",
        "            'train_map': current_map\n",
        "        }, last_path)\n",
        "\n",
        "        self.epochs_pbar.update(1)\n",
        "        self.epochs_pbar.set_postfix({\n",
        "            'train_mAP': f'{current_map:.4f}',\n",
        "            'val_mAP': f'{val_map:.4f}',\n",
        "            'no_improve': self.epochs_without_improvement\n",
        "        }, refresh=True)\n",
        "\n",
        "        return self.should_stop_training(val_map)\n",
        "\n",
        "    def on_train_end(self, trainer):\n",
        "        self.epochs_pbar.close()"
      ]
    },
    {
      "cell_type": "code",
      "execution_count": null,
      "metadata": {
        "id": "N_TWKXKFWBtH"
      },
      "outputs": [],
      "source": [
        "def train_model(yaml_path, save_dir, epochs=100, imgsz=1024, batch=16, patience=10, min_improvement=0.001):\n",
        "    model = YOLO('yolov10n.pt')\n",
        "    callback = ModelCallback(save_dir, epochs, patience, min_improvement)\n",
        "\n",
        "    results = model.train(\n",
        "        data=yaml_path,\n",
        "        epochs=epochs,\n",
        "        imgsz=imgsz,\n",
        "        batch=batch,\n",
        "        device=0 if torch.cuda.is_available() else 'cpu',\n",
        "        save=True,\n",
        "        project=str(save_dir),\n",
        "        name='train',\n",
        "        exist_ok=True,\n",
        "        val=True,\n",
        "        verbose=False,\n",
        "    )\n",
        "\n",
        "    return model, callback.best_map"
      ]
    },
    {
      "cell_type": "code",
      "execution_count": null,
      "metadata": {
        "id": "fRoV7zddVG5M"
      },
      "outputs": [],
      "source": [
        "if __name__ == \"__main__\":\n",
        "    yaml_path = '/content/drive/MyDrive/Photo person/data.yaml'\n",
        "    save_dir = Path('/content/drive/MyDrive/pth_person_detect')\n",
        "\n",
        "    model, best_map = train_model(\n",
        "    yaml_path= yaml_path,\n",
        "    save_dir= save_dir,\n",
        "    epochs=50,\n",
        "    patience=10,\n",
        "    min_improvement=0.001\n",
        ")"
      ]
    }
  ],
  "metadata": {
    "accelerator": "GPU",
    "colab": {
      "gpuType": "T4",
      "include_colab_link": true,
      "provenance": []
    },
    "kernelspec": {
      "display_name": "Python 3",
      "name": "python3"
    },
    "language_info": {
      "codemirror_mode": {
        "name": "ipython",
        "version": 3
      },
      "file_extension": ".py",
      "mimetype": "text/x-python",
      "name": "python",
      "nbconvert_exporter": "python",
      "pygments_lexer": "ipython3",
      "version": "3.11.9"
    }
  },
  "nbformat": 4,
  "nbformat_minor": 0
}
