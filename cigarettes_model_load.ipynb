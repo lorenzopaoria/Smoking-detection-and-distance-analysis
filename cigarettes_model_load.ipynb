{
  "cells": [
    {
      "cell_type": "markdown",
      "metadata": {
        "id": "view-in-github",
        "colab_type": "text"
      },
      "source": [
        "<a href=\"https://colab.research.google.com/github/lorenzopaoria/Smoking-detection-and-distance-analysis/blob/main/cigarettes_model_load.ipynb\" target=\"_parent\"><img src=\"https://colab.research.google.com/assets/colab-badge.svg\" alt=\"Open In Colab\"/></a>"
      ]
    },
    {
      "cell_type": "code",
      "execution_count": 8,
      "metadata": {
        "id": "TlHaWLsYPeim"
      },
      "outputs": [],
      "source": [
        "import torch\n",
        "import cv2\n",
        "import os\n",
        "import numpy as np\n",
        "import matplotlib.pyplot as plt\n",
        "from torchvision import models, transforms\n",
        "from PIL import Image"
      ]
    },
    {
      "cell_type": "code",
      "execution_count": 9,
      "metadata": {
        "colab": {
          "base_uri": "https://localhost:8080/"
        },
        "id": "M3Rhxpa2Peio",
        "outputId": "1c35713e-094f-44b8-926c-417d14b538ba"
      },
      "outputs": [
        {
          "output_type": "stream",
          "name": "stdout",
          "text": [
            "Drive already mounted at /content/drive; to attempt to forcibly remount, call drive.mount(\"/content/drive\", force_remount=True).\n"
          ]
        }
      ],
      "source": [
        "from google.colab import drive\n",
        "drive.mount('/content/drive')"
      ]
    },
    {
      "cell_type": "code",
      "execution_count": 10,
      "metadata": {
        "id": "CGwp0XLLPeip"
      },
      "outputs": [],
      "source": [
        "def load_model(model_path):\n",
        "    model = models.detection.fasterrcnn_resnet50_fpn(weights=models.detection.FasterRCNN_ResNet50_FPN_Weights.COCO_V1)\n",
        "\n",
        "    in_features = model.roi_heads.box_predictor.cls_score.in_features\n",
        "    num_classes = 2\n",
        "    model.roi_heads.box_predictor = models.detection.faster_rcnn.FastRCNNPredictor(in_features, num_classes)\n",
        "\n",
        "    model.load_state_dict(torch.load(model_path, map_location=torch.device('cpu')))\n",
        "    model.eval()\n",
        "    return model"
      ]
    },
    {
      "cell_type": "code",
      "execution_count": 11,
      "metadata": {
        "id": "4bWu1hEzPeip"
      },
      "outputs": [],
      "source": [
        "\n",
        "# Funzione per eseguire il modello su un'immagine\n",
        "def get_predictions(model, image, threshold=0.5):\n",
        "    # Trasformazione dell'immagine in formato tensor\n",
        "    transform = transforms.ToTensor()\n",
        "    image_tensor = transform(image).unsqueeze(0)  # Aggiungi dimensione batch\n",
        "    with torch.no_grad():\n",
        "        predictions = model(image_tensor)\n",
        "\n",
        "    # Estrai le bounding box, punteggi e etichette\n",
        "    boxes = predictions[0]['boxes']\n",
        "    scores = predictions[0]['scores']\n",
        "    labels = predictions[0]['labels']\n",
        "\n",
        "    # Filtra per score > threshold\n",
        "    keep = scores > threshold\n",
        "    boxes = boxes[keep]\n",
        "    labels = labels[keep]\n",
        "    return boxes, labels"
      ]
    },
    {
      "cell_type": "code",
      "execution_count": 12,
      "metadata": {
        "id": "y9_ejZv_Peiq"
      },
      "outputs": [],
      "source": [
        "# Funzione per disegnare le bounding box su un'immagine\n",
        "def draw_boxes(image, boxes, labels):\n",
        "    image = np.array(image)\n",
        "    for box, label in zip(boxes, labels):\n",
        "        x1, y1, x2, y2 = box.tolist()\n",
        "        # Disegna la bounding box (etichetta è ignorata in questo esempio)\n",
        "        cv2.rectangle(image, (int(x1), int(y1)), (int(x2), int(y2)), (0, 255, 0), 2)\n",
        "    return image"
      ]
    },
    {
      "cell_type": "code",
      "execution_count": 13,
      "metadata": {
        "id": "1_FnjXW_Peiq"
      },
      "outputs": [],
      "source": [
        "# Funzione principale per eseguire tutto il processo\n",
        "def process_images(model_path, images_folder, output_folder):\n",
        "    model = load_model(model_path)\n",
        "\n",
        "    # Crea la cartella di output se non esiste\n",
        "    os.makedirs(output_folder, exist_ok=True)\n",
        "\n",
        "    for image_name in os.listdir(images_folder):\n",
        "        image_path = os.path.join(images_folder, image_name)\n",
        "        if image_path.endswith(('.jpg', '.png', '.jpeg')):\n",
        "            print(f\"Processing {image_name}\")\n",
        "            # Carica l'immagine\n",
        "            image = Image.open(image_path).convert(\"RGB\")\n",
        "            boxes, labels = get_predictions(model, image)\n",
        "\n",
        "            # Disegna le bounding box sull'immagine\n",
        "            result_image = draw_boxes(image, boxes, labels)\n",
        "\n",
        "            # Salva l'immagine con le bounding box\n",
        "            result_image_path = os.path.join(output_folder, f\"output_{image_name}\")\n",
        "            cv2.imwrite(result_image_path, result_image)\n",
        "            print(f\"Saved output to {result_image_path}\")"
      ]
    },
    {
      "cell_type": "code",
      "execution_count": 14,
      "metadata": {
        "id": "ZYEPq5s3Peiq",
        "outputId": "eafbc06b-e243-40e3-942d-1b8f569467c7",
        "colab": {
          "base_uri": "https://localhost:8080/"
        }
      },
      "outputs": [
        {
          "output_type": "stream",
          "name": "stderr",
          "text": [
            "<ipython-input-10-2997e430d67c>:8: FutureWarning: You are using `torch.load` with `weights_only=False` (the current default value), which uses the default pickle module implicitly. It is possible to construct malicious pickle data which will execute arbitrary code during unpickling (See https://github.com/pytorch/pytorch/blob/main/SECURITY.md#untrusted-models for more details). In a future release, the default value for `weights_only` will be flipped to `True`. This limits the functions that could be executed during unpickling. Arbitrary objects will no longer be allowed to be loaded via this mode unless they are explicitly allowlisted by the user via `torch.serialization.add_safe_globals`. We recommend you start setting `weights_only=True` for any use case where you don't have full control of the loaded file. Please open an issue on GitHub for any issues related to this experimental feature.\n",
            "  model.load_state_dict(torch.load(model_path, map_location=torch.device('cpu')))\n"
          ]
        },
        {
          "output_type": "stream",
          "name": "stdout",
          "text": [
            "Processing 20240928_140539_jpg.rf.a3f59ec5ebcc4dd94ed524a3659c45ec.jpg\n",
            "Saved output to /content/drive/MyDrive/test_trained/output_20240928_140539_jpg.rf.a3f59ec5ebcc4dd94ed524a3659c45ec.jpg\n",
            "Processing 20240928_133303_jpg.rf.6f615ecc8690a9068e521e60ebbc982b.jpg\n",
            "Saved output to /content/drive/MyDrive/test_trained/output_20240928_133303_jpg.rf.6f615ecc8690a9068e521e60ebbc982b.jpg\n",
            "Processing 20241120_110416_jpg.rf.479214375879a2a91444dbc7997d4af8.jpg\n",
            "Saved output to /content/drive/MyDrive/test_trained/output_20241120_110416_jpg.rf.479214375879a2a91444dbc7997d4af8.jpg\n",
            "Processing 20240928_122456_jpg.rf.499c83da73f30227543e134377dfc208.jpg\n",
            "Saved output to /content/drive/MyDrive/test_trained/output_20240928_122456_jpg.rf.499c83da73f30227543e134377dfc208.jpg\n",
            "Processing 20240928_142524_jpg.rf.8f95c2f0bd649fac886ea29e8c2e5932.jpg\n",
            "Saved output to /content/drive/MyDrive/test_trained/output_20240928_142524_jpg.rf.8f95c2f0bd649fac886ea29e8c2e5932.jpg\n",
            "Processing 20240928_133336_jpg.rf.5b2f60d5b6a6c3c160013569923a7c7f.jpg\n",
            "Saved output to /content/drive/MyDrive/test_trained/output_20240928_133336_jpg.rf.5b2f60d5b6a6c3c160013569923a7c7f.jpg\n",
            "Processing 20240928_140940_jpg.rf.03f47c53f7844635b5f07ff318e8402a.jpg\n",
            "Saved output to /content/drive/MyDrive/test_trained/output_20240928_140940_jpg.rf.03f47c53f7844635b5f07ff318e8402a.jpg\n",
            "Processing 20240928_131333_jpg.rf.209ec24103e059e4760795b5b178ec00.jpg\n",
            "Saved output to /content/drive/MyDrive/test_trained/output_20240928_131333_jpg.rf.209ec24103e059e4760795b5b178ec00.jpg\n",
            "Processing 20240928_140643_jpg.rf.b8d2ce3c611e6a95f90614798d4bce40.jpg\n",
            "Saved output to /content/drive/MyDrive/test_trained/output_20240928_140643_jpg.rf.b8d2ce3c611e6a95f90614798d4bce40.jpg\n",
            "Processing 20240928_122126_jpg.rf.0051e81912f5df31f99a6a87b7f5407a.jpg\n",
            "Saved output to /content/drive/MyDrive/test_trained/output_20240928_122126_jpg.rf.0051e81912f5df31f99a6a87b7f5407a.jpg\n",
            "Processing 20240928_131248_jpg.rf.753b269901cac71b6a90497d837813a1.jpg\n",
            "Saved output to /content/drive/MyDrive/test_trained/output_20240928_131248_jpg.rf.753b269901cac71b6a90497d837813a1.jpg\n",
            "Processing 20240928_140555_jpg.rf.ae9e07be32769ce31745b51e60943d62.jpg\n",
            "Saved output to /content/drive/MyDrive/test_trained/output_20240928_140555_jpg.rf.ae9e07be32769ce31745b51e60943d62.jpg\n",
            "Processing 20240928_122431_jpg.rf.910711aebf2b1216c260c1775b5b45c7.jpg\n",
            "Saved output to /content/drive/MyDrive/test_trained/output_20240928_122431_jpg.rf.910711aebf2b1216c260c1775b5b45c7.jpg\n",
            "Processing 20240928_131232_jpg.rf.8b26b59663c4c0460b1160167185d2f2.jpg\n",
            "Saved output to /content/drive/MyDrive/test_trained/output_20240928_131232_jpg.rf.8b26b59663c4c0460b1160167185d2f2.jpg\n",
            "Processing 20240928_122603_jpg.rf.805f00aa0cb4653b5dfe075e27d06f92.jpg\n",
            "Saved output to /content/drive/MyDrive/test_trained/output_20240928_122603_jpg.rf.805f00aa0cb4653b5dfe075e27d06f92.jpg\n",
            "Processing 20241120_113913_jpg.rf.b0c9a4d2d03fb2a31e057e1fb52f39ed.jpg\n",
            "Saved output to /content/drive/MyDrive/test_trained/output_20241120_113913_jpg.rf.b0c9a4d2d03fb2a31e057e1fb52f39ed.jpg\n",
            "Processing 20241120_113715_jpg.rf.8ec9cc5b42303498d6aa8ffccdbe4fbf.jpg\n",
            "Saved output to /content/drive/MyDrive/test_trained/output_20241120_113715_jpg.rf.8ec9cc5b42303498d6aa8ffccdbe4fbf.jpg\n",
            "Processing 20240928_140537_jpg.rf.8b6621b24f27f5b91639053ead19e208.jpg\n",
            "Saved output to /content/drive/MyDrive/test_trained/output_20240928_140537_jpg.rf.8b6621b24f27f5b91639053ead19e208.jpg\n",
            "Processing 20240928_140933_jpg.rf.4702ad6db229856d6a001585fe8b37a9.jpg\n",
            "Saved output to /content/drive/MyDrive/test_trained/output_20240928_140933_jpg.rf.4702ad6db229856d6a001585fe8b37a9.jpg\n",
            "Processing 20241120_113824_jpg.rf.47a7d154999699ff8823af9815d97eef.jpg\n",
            "Saved output to /content/drive/MyDrive/test_trained/output_20241120_113824_jpg.rf.47a7d154999699ff8823af9815d97eef.jpg\n",
            "Processing 20240928_131235_jpg.rf.edc7947a3f899780364ff07ad1720929.jpg\n",
            "Saved output to /content/drive/MyDrive/test_trained/output_20240928_131235_jpg.rf.edc7947a3f899780364ff07ad1720929.jpg\n",
            "Processing 20240928_142454_jpg.rf.4a78b5d1a2578d12c98d05e8297a61b9.jpg\n",
            "Saved output to /content/drive/MyDrive/test_trained/output_20240928_142454_jpg.rf.4a78b5d1a2578d12c98d05e8297a61b9.jpg\n",
            "Processing 20241120_113800_jpg.rf.bc8b2d9bef72f86f58bfb8cf189df2e7.jpg\n",
            "Saved output to /content/drive/MyDrive/test_trained/output_20241120_113800_jpg.rf.bc8b2d9bef72f86f58bfb8cf189df2e7.jpg\n",
            "Processing 20241120_113821_jpg.rf.5c2710138797fd1d553b1bfaee04978f.jpg\n",
            "Saved output to /content/drive/MyDrive/test_trained/output_20241120_113821_jpg.rf.5c2710138797fd1d553b1bfaee04978f.jpg\n",
            "Processing 20241120_113601-0-_jpg.rf.2c1e6e6d71a54d25f97e2ee508b37ae5.jpg\n",
            "Saved output to /content/drive/MyDrive/test_trained/output_20241120_113601-0-_jpg.rf.2c1e6e6d71a54d25f97e2ee508b37ae5.jpg\n",
            "Processing 20240928_142502_jpg.rf.3dd1f835d8ee99bfc16908a15189b04e.jpg\n",
            "Saved output to /content/drive/MyDrive/test_trained/output_20240928_142502_jpg.rf.3dd1f835d8ee99bfc16908a15189b04e.jpg\n",
            "Processing 20240928_134442_jpg.rf.0c2277df9abd67381c484fcbdb598e8e.jpg\n",
            "Saved output to /content/drive/MyDrive/test_trained/output_20240928_134442_jpg.rf.0c2277df9abd67381c484fcbdb598e8e.jpg\n",
            "Processing 20240928_131425_jpg.rf.36ec82361ed8732bcc57933e0ed674b8.jpg\n",
            "Saved output to /content/drive/MyDrive/test_trained/output_20240928_131425_jpg.rf.36ec82361ed8732bcc57933e0ed674b8.jpg\n",
            "Processing 20240928_140449_jpg.rf.92ae5a717fc28d068ac941000cbddaf0.jpg\n",
            "Saved output to /content/drive/MyDrive/test_trained/output_20240928_140449_jpg.rf.92ae5a717fc28d068ac941000cbddaf0.jpg\n",
            "Processing 20240928_131321_jpg.rf.939b2e6ffe3857000a10ac2d25333526.jpg\n",
            "Saved output to /content/drive/MyDrive/test_trained/output_20240928_131321_jpg.rf.939b2e6ffe3857000a10ac2d25333526.jpg\n",
            "Processing 20240928_142507_jpg.rf.43e24eb27abad433f1289b4353dba317.jpg\n",
            "Saved output to /content/drive/MyDrive/test_trained/output_20240928_142507_jpg.rf.43e24eb27abad433f1289b4353dba317.jpg\n",
            "Processing 20240928_142614_jpg.rf.2016b01a4d4f0049d1c83af83e9b9ab7.jpg\n",
            "Saved output to /content/drive/MyDrive/test_trained/output_20240928_142614_jpg.rf.2016b01a4d4f0049d1c83af83e9b9ab7.jpg\n",
            "Processing 20240928_134153_jpg.rf.62a3606c4b680b7804814230791381b7.jpg\n",
            "Saved output to /content/drive/MyDrive/test_trained/output_20240928_134153_jpg.rf.62a3606c4b680b7804814230791381b7.jpg\n",
            "Processing 20240928_133406_jpg.rf.473fcac84d4cb566a83de65e2b793b56.jpg\n",
            "Saved output to /content/drive/MyDrive/test_trained/output_20240928_133406_jpg.rf.473fcac84d4cb566a83de65e2b793b56.jpg\n",
            "Processing 20241120_113604_jpg.rf.8002ca2a955d897f63b34380c48867f3.jpg\n",
            "Saved output to /content/drive/MyDrive/test_trained/output_20241120_113604_jpg.rf.8002ca2a955d897f63b34380c48867f3.jpg\n",
            "Processing 20240928_140554_jpg.rf.2fbc6cbec5b2470dc9482e766d47d9c2.jpg\n",
            "Saved output to /content/drive/MyDrive/test_trained/output_20240928_140554_jpg.rf.2fbc6cbec5b2470dc9482e766d47d9c2.jpg\n",
            "Processing 20240928_134116_jpg.rf.80ab880eed7417c63f33fc2fb34206b3.jpg\n",
            "Saved output to /content/drive/MyDrive/test_trained/output_20240928_134116_jpg.rf.80ab880eed7417c63f33fc2fb34206b3.jpg\n",
            "Processing 20240928_142457_jpg.rf.ab3c5f3ad3462d73278e0af415fdd070.jpg\n",
            "Saved output to /content/drive/MyDrive/test_trained/output_20240928_142457_jpg.rf.ab3c5f3ad3462d73278e0af415fdd070.jpg\n",
            "Processing 20240928_131744_jpg.rf.3d84b768a0ed7d096e3451ce2a0b5d75.jpg\n",
            "Saved output to /content/drive/MyDrive/test_trained/output_20240928_131744_jpg.rf.3d84b768a0ed7d096e3451ce2a0b5d75.jpg\n",
            "Processing 20240928_122621_jpg.rf.36647bc482178d6e829acdea95861731.jpg\n",
            "Saved output to /content/drive/MyDrive/test_trained/output_20240928_122621_jpg.rf.36647bc482178d6e829acdea95861731.jpg\n",
            "Processing 20240928_122003_jpg.rf.6e54f42cafba5dbc8a9f4e3e267be678.jpg\n",
            "Saved output to /content/drive/MyDrive/test_trained/output_20240928_122003_jpg.rf.6e54f42cafba5dbc8a9f4e3e267be678.jpg\n",
            "Processing 20240928_134203_jpg.rf.1a2c73d461510b3985533009720fd93c.jpg\n",
            "Saved output to /content/drive/MyDrive/test_trained/output_20240928_134203_jpg.rf.1a2c73d461510b3985533009720fd93c.jpg\n",
            "Processing 20240928_140554_jpg.rf.458fd8c1e64769a2228a5c0471bfcba3.jpg\n",
            "Saved output to /content/drive/MyDrive/test_trained/output_20240928_140554_jpg.rf.458fd8c1e64769a2228a5c0471bfcba3.jpg\n",
            "Processing 20240928_122558-0-_jpg.rf.e37485fd53443aa4b0e7219f6b14cfde.jpg\n",
            "Saved output to /content/drive/MyDrive/test_trained/output_20240928_122558-0-_jpg.rf.e37485fd53443aa4b0e7219f6b14cfde.jpg\n",
            "Processing 20240928_122556_jpg.rf.1cf9c25bde46a4abec2dd08c1c79d2b4.jpg\n",
            "Saved output to /content/drive/MyDrive/test_trained/output_20240928_122556_jpg.rf.1cf9c25bde46a4abec2dd08c1c79d2b4.jpg\n",
            "Processing 20241120_113552_jpg.rf.488a0cab3b33ec293f0a2d6ac44b9e91.jpg\n",
            "Saved output to /content/drive/MyDrive/test_trained/output_20241120_113552_jpg.rf.488a0cab3b33ec293f0a2d6ac44b9e91.jpg\n",
            "Processing 20240928_122455_jpg.rf.6549fc09c4340ad5b01fd133b69cf456.jpg\n",
            "Saved output to /content/drive/MyDrive/test_trained/output_20240928_122455_jpg.rf.6549fc09c4340ad5b01fd133b69cf456.jpg\n",
            "Processing 20240928_134500_jpg.rf.5324f2c52a94e4005cb554963ce623ff.jpg\n",
            "Saved output to /content/drive/MyDrive/test_trained/output_20240928_134500_jpg.rf.5324f2c52a94e4005cb554963ce623ff.jpg\n",
            "Processing 20241120_113648_jpg.rf.bd053607ff05f47d9544b3eb02a65e9c.jpg\n",
            "Saved output to /content/drive/MyDrive/test_trained/output_20241120_113648_jpg.rf.bd053607ff05f47d9544b3eb02a65e9c.jpg\n",
            "Processing 20240928_142403_jpg.rf.07059c99f878a17ffc8056b05ba6fa69.jpg\n",
            "Saved output to /content/drive/MyDrive/test_trained/output_20240928_142403_jpg.rf.07059c99f878a17ffc8056b05ba6fa69.jpg\n",
            "Processing 20240928_143016_jpg.rf.9daf378b6e73ced758dd0f1aba4f85ed.jpg\n",
            "Saved output to /content/drive/MyDrive/test_trained/output_20240928_143016_jpg.rf.9daf378b6e73ced758dd0f1aba4f85ed.jpg\n",
            "Processing 20240928_143010_jpg.rf.4190db08c5d6efc3ad54589c431c3511.jpg\n",
            "Saved output to /content/drive/MyDrive/test_trained/output_20240928_143010_jpg.rf.4190db08c5d6efc3ad54589c431c3511.jpg\n",
            "Processing 20240928_134123_jpg.rf.046bbfc4a96aaefe5d3e4f2868513460.jpg\n",
            "Saved output to /content/drive/MyDrive/test_trained/output_20240928_134123_jpg.rf.046bbfc4a96aaefe5d3e4f2868513460.jpg\n",
            "Processing 20240928_134209_jpg.rf.90221e50ebfa2d4729612b9e4569696e.jpg\n",
            "Saved output to /content/drive/MyDrive/test_trained/output_20240928_134209_jpg.rf.90221e50ebfa2d4729612b9e4569696e.jpg\n",
            "Processing 20240928_134049_jpg.rf.4363fe9081d1d029e3a45b43ca15389b.jpg\n",
            "Saved output to /content/drive/MyDrive/test_trained/output_20240928_134049_jpg.rf.4363fe9081d1d029e3a45b43ca15389b.jpg\n",
            "Processing 20240928_140532_jpg.rf.21f734262d0e1bb8f29af8a42c76bbeb.jpg\n",
            "Saved output to /content/drive/MyDrive/test_trained/output_20240928_140532_jpg.rf.21f734262d0e1bb8f29af8a42c76bbeb.jpg\n",
            "Processing 20240928_142428_jpg.rf.e22d040c436912c1cc68162502c88d4c.jpg\n",
            "Saved output to /content/drive/MyDrive/test_trained/output_20240928_142428_jpg.rf.e22d040c436912c1cc68162502c88d4c.jpg\n",
            "Processing 20241120_110726_jpg.rf.c84653de11d028a51df0ba12a2cff2d1.jpg\n",
            "Saved output to /content/drive/MyDrive/test_trained/output_20241120_110726_jpg.rf.c84653de11d028a51df0ba12a2cff2d1.jpg\n",
            "Processing 20241120_113632_jpg.rf.dcf4c9c8b1d150daaf5acdb33cda2b75.jpg\n",
            "Saved output to /content/drive/MyDrive/test_trained/output_20241120_113632_jpg.rf.dcf4c9c8b1d150daaf5acdb33cda2b75.jpg\n",
            "Processing 20240928_133246_jpg.rf.fb0a6b4222c366809da1c3812bd55a23.jpg\n",
            "Saved output to /content/drive/MyDrive/test_trained/output_20240928_133246_jpg.rf.fb0a6b4222c366809da1c3812bd55a23.jpg\n",
            "Processing 20241120_113550_jpg.rf.ecf7f27c886fcc3a7dd45c61d79241a3.jpg\n",
            "Saved output to /content/drive/MyDrive/test_trained/output_20241120_113550_jpg.rf.ecf7f27c886fcc3a7dd45c61d79241a3.jpg\n",
            "Processing 20240928_122457-0-_jpg.rf.e0d18ef792255d802b8fe48d80709866.jpg\n",
            "Saved output to /content/drive/MyDrive/test_trained/output_20240928_122457-0-_jpg.rf.e0d18ef792255d802b8fe48d80709866.jpg\n",
            "Processing 20241120_110549_jpg.rf.eaa610f391c6bfc1cd196b51e9ecc63c.jpg\n",
            "Saved output to /content/drive/MyDrive/test_trained/output_20241120_110549_jpg.rf.eaa610f391c6bfc1cd196b51e9ecc63c.jpg\n",
            "Processing 20240928_134426_jpg.rf.e5075aabc8d218c4f1b83ab07c3498fb.jpg\n",
            "Saved output to /content/drive/MyDrive/test_trained/output_20240928_134426_jpg.rf.e5075aabc8d218c4f1b83ab07c3498fb.jpg\n",
            "Processing 20241120_113726_jpg.rf.e813a5f3704dbf3572aa8860ae2aa4d6.jpg\n",
            "Saved output to /content/drive/MyDrive/test_trained/output_20241120_113726_jpg.rf.e813a5f3704dbf3572aa8860ae2aa4d6.jpg\n",
            "Processing 20240928_134055_jpg.rf.d23934206e5ae511de9847f6ba2153d0.jpg\n",
            "Saved output to /content/drive/MyDrive/test_trained/output_20240928_134055_jpg.rf.d23934206e5ae511de9847f6ba2153d0.jpg\n",
            "Processing 20240928_131359_jpg.rf.f068ea67a3efa42579c8c677245ee422.jpg\n",
            "Saved output to /content/drive/MyDrive/test_trained/output_20240928_131359_jpg.rf.f068ea67a3efa42579c8c677245ee422.jpg\n",
            "Processing 20240928_142823_jpg.rf.f74a838029103160c9508f2f7b618def.jpg\n",
            "Saved output to /content/drive/MyDrive/test_trained/output_20240928_142823_jpg.rf.f74a838029103160c9508f2f7b618def.jpg\n",
            "Processing 20240928_134416_jpg.rf.d818e4d959f0aae44623c1ef59b80eba.jpg\n",
            "Saved output to /content/drive/MyDrive/test_trained/output_20240928_134416_jpg.rf.d818e4d959f0aae44623c1ef59b80eba.jpg\n",
            "Processing 20240928_142359_jpg.rf.dbe430bbfbc85230d04981de14f9b124.jpg\n",
            "Saved output to /content/drive/MyDrive/test_trained/output_20240928_142359_jpg.rf.dbe430bbfbc85230d04981de14f9b124.jpg\n",
            "Processing 20240928_134156_jpg.rf.fd7342470244901ef3e70626e81a9be1.jpg\n",
            "Saved output to /content/drive/MyDrive/test_trained/output_20240928_134156_jpg.rf.fd7342470244901ef3e70626e81a9be1.jpg\n",
            "Processing 20241120_114103_jpg.rf.e864ec2165040dd2117ee72890a58fd5.jpg\n",
            "Saved output to /content/drive/MyDrive/test_trained/output_20241120_114103_jpg.rf.e864ec2165040dd2117ee72890a58fd5.jpg\n",
            "Processing 20241120_110541_jpg.rf.c57f0a9eba5ab095e70c0cdb3793b2d9.jpg\n",
            "Saved output to /content/drive/MyDrive/test_trained/output_20241120_110541_jpg.rf.c57f0a9eba5ab095e70c0cdb3793b2d9.jpg\n"
          ]
        }
      ],
      "source": [
        "def main():\n",
        "    model_path = '/content/drive/MyDrive/pth_cigarette_detect/fasterrcnn_cigarette_final.pth'\n",
        "    images_folder = '/content/drive/MyDrive/Photo/test'\n",
        "    output_folder = '/content/drive/MyDrive/test_trained'\n",
        "\n",
        "    process_images(model_path, images_folder, output_folder)\n",
        "\n",
        "    #TODO risolvere tensor, box rossa e con la scritta, tqdm for output, best trained model\n",
        "\n",
        "if __name__ == \"__main__\":\n",
        "    main()"
      ]
    }
  ],
  "metadata": {
    "language_info": {
      "name": "python"
    },
    "colab": {
      "provenance": [],
      "gpuType": "T4",
      "include_colab_link": true
    },
    "kernelspec": {
      "name": "python3",
      "display_name": "Python 3"
    },
    "accelerator": "GPU"
  },
  "nbformat": 4,
  "nbformat_minor": 0
}