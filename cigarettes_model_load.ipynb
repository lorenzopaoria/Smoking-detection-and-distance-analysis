{
  "cells": [
    {
      "cell_type": "markdown",
      "metadata": {
        "id": "view-in-github",
        "colab_type": "text"
      },
      "source": [
        "<a href=\"https://colab.research.google.com/github/lorenzopaoria/Smoking-detection-and-distance-analysis/blob/main/cigarettes_model_load.ipynb\" target=\"_parent\"><img src=\"https://colab.research.google.com/assets/colab-badge.svg\" alt=\"Open In Colab\"/></a>"
      ]
    },
    {
      "cell_type": "code",
      "execution_count": null,
      "metadata": {
        "id": "TlHaWLsYPeim"
      },
      "outputs": [],
      "source": [
        "import torch\n",
        "import cv2\n",
        "import os\n",
        "import numpy as np\n",
        "import matplotlib.pyplot as plt\n",
        "from torchvision import models, transforms\n",
        "from PIL import Image"
      ]
    },
    {
      "cell_type": "code",
      "execution_count": 1,
      "metadata": {
        "colab": {
          "base_uri": "https://localhost:8080/"
        },
        "id": "M3Rhxpa2Peio",
        "outputId": "ecadb8c2-6657-4e66-ce41-d1221fad9386"
      },
      "outputs": [
        {
          "output_type": "stream",
          "name": "stdout",
          "text": [
            "Mounted at /content/drive\n"
          ]
        }
      ],
      "source": [
        "from google.colab import drive\n",
        "drive.mount('/content/drive')"
      ]
    },
    {
      "cell_type": "code",
      "execution_count": null,
      "metadata": {
        "id": "CGwp0XLLPeip"
      },
      "outputs": [],
      "source": [
        "# Funzione per caricare il modello\n",
        "def load_model(model_path):\n",
        "    model = models.detection.fasterrcnn_resnet50_fpn(pretrained=True)\n",
        "    # Carica il modello da file .pth\n",
        "    model.load_state_dict(torch.load(model_path))\n",
        "    model.eval()\n",
        "    return model"
      ]
    },
    {
      "cell_type": "code",
      "execution_count": null,
      "metadata": {
        "id": "4bWu1hEzPeip"
      },
      "outputs": [],
      "source": [
        "\n",
        "# Funzione per eseguire il modello su un'immagine\n",
        "def get_predictions(model, image, threshold=0.5):\n",
        "    # Trasformazione dell'immagine in formato tensor\n",
        "    transform = transforms.ToTensor()\n",
        "    image_tensor = transform(image).unsqueeze(0)  # Aggiungi dimensione batch\n",
        "    with torch.no_grad():\n",
        "        predictions = model(image_tensor)\n",
        "\n",
        "    # Estrai le bounding box, punteggi e etichette\n",
        "    boxes = predictions[0]['boxes']\n",
        "    scores = predictions[0]['scores']\n",
        "    labels = predictions[0]['labels']\n",
        "\n",
        "    # Filtra per score > threshold\n",
        "    keep = scores > threshold\n",
        "    boxes = boxes[keep]\n",
        "    labels = labels[keep]\n",
        "    return boxes, labels"
      ]
    },
    {
      "cell_type": "code",
      "execution_count": null,
      "metadata": {
        "id": "y9_ejZv_Peiq"
      },
      "outputs": [],
      "source": [
        "# Funzione per disegnare le bounding box su un'immagine\n",
        "def draw_boxes(image, boxes, labels):\n",
        "    image = np.array(image)\n",
        "    for box, label in zip(boxes, labels):\n",
        "        x1, y1, x2, y2 = box.tolist()\n",
        "        # Disegna la bounding box (etichetta è ignorata in questo esempio)\n",
        "        cv2.rectangle(image, (int(x1), int(y1)), (int(x2), int(y2)), (0, 255, 0), 2)\n",
        "    return image"
      ]
    },
    {
      "cell_type": "code",
      "execution_count": null,
      "metadata": {
        "id": "1_FnjXW_Peiq"
      },
      "outputs": [],
      "source": [
        "# Funzione principale per eseguire tutto il processo\n",
        "def process_images(model_path, images_folder, output_folder):\n",
        "    model = load_model(model_path)\n",
        "\n",
        "    # Crea la cartella di output se non esiste\n",
        "    os.makedirs(output_folder, exist_ok=True)\n",
        "\n",
        "    for image_name in os.listdir(images_folder):\n",
        "        image_path = os.path.join(images_folder, image_name)\n",
        "        if image_path.endswith(('.jpg', '.png', '.jpeg')):\n",
        "            print(f\"Processing {image_name}\")\n",
        "            # Carica l'immagine\n",
        "            image = Image.open(image_path).convert(\"RGB\")\n",
        "            boxes, labels = get_predictions(model, image)\n",
        "\n",
        "            # Disegna le bounding box sull'immagine\n",
        "            result_image = draw_boxes(image, boxes, labels)\n",
        "\n",
        "            # Salva l'immagine con le bounding box\n",
        "            result_image_path = os.path.join(output_folder, f\"output_{image_name}\")\n",
        "            cv2.imwrite(result_image_path, result_image)\n",
        "            print(f\"Saved output to {result_image_path}\")"
      ]
    },
    {
      "cell_type": "code",
      "execution_count": null,
      "metadata": {
        "id": "ZYEPq5s3Peiq"
      },
      "outputs": [],
      "source": [
        "def main():\n",
        "    model_path = '/content/drive/MyDrive/pth_cigarette_detect/best_model.pth'  # Sostituisci con il percorso del tuo modello .pth\n",
        "    images_folder = '/content/drive/MyDrive/Photo/test'  # Sostituisci con la cartella contenente le immagini\n",
        "    output_folder = '/content/drive/MyDrive/test_trained'  # Sostituisci con la cartella dove salvare le immagini con le bounding box\n",
        "\n",
        "    # Esegui il processo di rilevamento\n",
        "    process_images(model_path, images_folder, output_folder)\n",
        "\n",
        "if __name__ == \"__main__\":\n",
        "    main()"
      ]
    }
  ],
  "metadata": {
    "language_info": {
      "name": "python"
    },
    "colab": {
      "provenance": [],
      "gpuType": "T4",
      "include_colab_link": true
    },
    "kernelspec": {
      "name": "python3",
      "display_name": "Python 3"
    },
    "accelerator": "GPU"
  },
  "nbformat": 4,
  "nbformat_minor": 0
}