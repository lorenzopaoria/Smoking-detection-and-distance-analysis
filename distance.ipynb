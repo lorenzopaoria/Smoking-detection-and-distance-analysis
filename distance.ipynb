{
  "cells": [
    {
      "cell_type": "markdown",
      "metadata": {
        "id": "view-in-github",
        "colab_type": "text"
      },
      "source": [
        "<a href=\"https://colab.research.google.com/github/lorenzopaoria/Smoking-detection-and-distance-analysis/blob/main/distance.ipynb\" target=\"_parent\"><img src=\"https://colab.research.google.com/assets/colab-badge.svg\" alt=\"Open In Colab\"/></a>"
      ]
    },
    {
      "cell_type": "markdown",
      "metadata": {
        "id": "NIJA1DQVax5A"
      },
      "source": [
        "Find the distance between smoker and not"
      ]
    },
    {
      "cell_type": "code",
      "execution_count": 10,
      "metadata": {
        "id": "90c--lc6ax5H"
      },
      "outputs": [],
      "source": [
        "import cv2\n",
        "import numpy as np\n",
        "from dataclasses import dataclass\n",
        "from typing import List, Tuple\n",
        "import math\n",
        "import os"
      ]
    },
    {
      "cell_type": "code",
      "execution_count": 11,
      "metadata": {
        "colab": {
          "base_uri": "https://localhost:8080/"
        },
        "id": "gGhWYCnQax5K",
        "outputId": "51e5f97d-74af-45b0-eea4-ad7ff0e1f9ff"
      },
      "outputs": [
        {
          "output_type": "stream",
          "name": "stdout",
          "text": [
            "Drive already mounted at /content/drive; to attempt to forcibly remount, call drive.mount(\"/content/drive\", force_remount=True).\n"
          ]
        }
      ],
      "source": [
        "from google.colab import drive\n",
        "drive.mount('/content/drive')"
      ]
    },
    {
      "cell_type": "code",
      "execution_count": 12,
      "metadata": {
        "id": "zMsO_Kp6ax5M"
      },
      "outputs": [],
      "source": [
        "@dataclass\n",
        "class Person:\n",
        "    x1: int\n",
        "    y1: int\n",
        "    x2: int\n",
        "    y2: int\n",
        "    is_smoking: bool\n",
        "    confidence: float"
      ]
    },
    {
      "cell_type": "code",
      "execution_count": 13,
      "metadata": {
        "id": "qHUbJlgPax5N"
      },
      "outputs": [],
      "source": [
        "def extract_people_from_image(image_path: str) -> List[Person]:\n",
        "    \"\"\"\n",
        "    Estrae le informazioni sulle persone dall'immagine usando i colori delle bounding box:\n",
        "    - Rosso = fumatore\n",
        "    - Blu = non fumatore\n",
        "    \"\"\"\n",
        "    image = cv2.imread(image_path)\n",
        "    hsv = cv2.cvtColor(image, cv2.COLOR_BGR2HSV)\n",
        "\n",
        "    # Definiamo i range di colori per rilevare le bounding box\n",
        "    # Rosso (fumatori)\n",
        "    lower_red = np.array([0, 100, 100])\n",
        "    upper_red = np.array([10, 255, 255])\n",
        "    red_mask = cv2.inRange(hsv, lower_red, upper_red)\n",
        "\n",
        "    # Blu (non fumatori)\n",
        "    lower_blue = np.array([100, 100, 100])\n",
        "    upper_blue = np.array([130, 255, 255])\n",
        "    blue_mask = cv2.inRange(hsv, lower_blue, upper_blue)\n",
        "\n",
        "    # Trova i contorni per ogni colore\n",
        "    red_contours, _ = cv2.findContours(red_mask, cv2.RETR_EXTERNAL, cv2.CHAIN_APPROX_SIMPLE)\n",
        "    blue_contours, _ = cv2.findContours(blue_mask, cv2.RETR_EXTERNAL, cv2.CHAIN_APPROX_SIMPLE)\n",
        "\n",
        "    people = []\n",
        "\n",
        "    # Processa i contorni rossi (fumatori)\n",
        "    for contour in red_contours:\n",
        "        x, y, w, h = cv2.boundingRect(contour)\n",
        "        if w > 20 and h > 20:  # Filtro per dimensione minima\n",
        "            people.append(Person(\n",
        "                x1=x, y1=y, x2=x+w, y2=y+h,\n",
        "                is_smoking=True,\n",
        "                confidence=1.0\n",
        "            ))\n",
        "\n",
        "    # Processa i contorni blu (non fumatori)\n",
        "    for contour in blue_contours:\n",
        "        x, y, w, h = cv2.boundingRect(contour)\n",
        "        if w > 20 and h > 20:  # Filtro per dimensione minima\n",
        "            people.append(Person(\n",
        "                x1=x, y1=y, x2=x+w, y2=y+h,\n",
        "                is_smoking=False,\n",
        "                confidence=1.0\n",
        "            ))\n",
        "\n",
        "    return people"
      ]
    },
    {
      "cell_type": "code",
      "execution_count": 14,
      "metadata": {
        "id": "aZtewUqjax5P"
      },
      "outputs": [],
      "source": [
        "def calculate_center_point(person: Person) -> Tuple[float, float]:\n",
        "    \"\"\"Calcola il punto centrale di una persona\"\"\"\n",
        "    center_x = (person.x1 + person.x2) / 2\n",
        "    center_y = (person.y1 + person.y2) / 2\n",
        "    return (center_x, center_y)\n"
      ]
    },
    {
      "cell_type": "code",
      "execution_count": 15,
      "metadata": {
        "id": "m8ESvqphax5Q"
      },
      "outputs": [],
      "source": [
        "def calculate_distance(p1: Person, p2: Person, pixels_per_meter: float = 100) -> float:\n",
        "    \"\"\"Calcola la distanza euclidea tra due persone\"\"\"\n",
        "    c1 = calculate_center_point(p1)\n",
        "    c2 = calculate_center_point(p2)\n",
        "\n",
        "    pixel_distance = math.sqrt(\n",
        "        (c2[0] - c1[0])**2 + (c2[1] - c1[1])**2\n",
        "    )\n",
        "\n",
        "    return pixel_distance / pixels_per_meter"
      ]
    },
    {
      "cell_type": "code",
      "execution_count": 16,
      "metadata": {
        "id": "DZIUMc2Aax5R"
      },
      "outputs": [],
      "source": [
        "def find_nearest_non_smoker(smoker: Person, non_smokers: List[Person]) -> Tuple[Person, float]:\n",
        "    \"\"\"Trova il non fumatore più vicino a un fumatore\"\"\"\n",
        "    if not non_smokers:\n",
        "        return None, float('inf')\n",
        "\n",
        "    distances = [(ns, calculate_distance(smoker, ns)) for ns in non_smokers]\n",
        "    return min(distances, key=lambda x: x[1])\n"
      ]
    },
    {
      "cell_type": "code",
      "execution_count": 17,
      "metadata": {
        "id": "3vfyIteXax5S"
      },
      "outputs": [],
      "source": [
        "def process_and_save_image(image_path: str, output_dir: str, people: List[Person]) -> None:\n",
        "    \"\"\"\n",
        "    Processa un'immagine disegnando solo la distanza tra ogni fumatore\n",
        "    e il non fumatore più vicino\n",
        "    \"\"\"\n",
        "    os.makedirs(output_dir, exist_ok=True)\n",
        "    image = cv2.imread(image_path)\n",
        "\n",
        "    smokers = [p for p in people if p.is_smoking]\n",
        "    non_smokers = [p for p in people if not p.is_smoking]\n",
        "\n",
        "    # Disegna le bounding box originali\n",
        "    for person in people:\n",
        "        color = (0, 0, 255) if person.is_smoking else (255, 0, 0)  # Rosso per fumatori, Blu per non fumatori\n",
        "        cv2.rectangle(image, (person.x1, person.y1), (person.x2, person.y2), color, 2)\n",
        "\n",
        "        # Disegna il punto centrale\n",
        "        center = calculate_center_point(person)\n",
        "        cv2.circle(image, (int(center[0]), int(center[1])), 3, (255, 255, 0), -1)\n",
        "\n",
        "    # Per ogni fumatore, trova il non fumatore più vicino e disegna la distanza\n",
        "    for smoker in smokers:\n",
        "        nearest_non_smoker, distance = find_nearest_non_smoker(smoker, non_smokers)\n",
        "        if nearest_non_smoker is not None:\n",
        "            s_center = calculate_center_point(smoker)\n",
        "            ns_center = calculate_center_point(nearest_non_smoker)\n",
        "\n",
        "            # Disegna la linea tra i centri\n",
        "            cv2.line(image,\n",
        "                    (int(s_center[0]), int(s_center[1])),\n",
        "                    (int(ns_center[0]), int(ns_center[1])),\n",
        "                    (255, 255, 0), 2)  # Linea più spessa per maggiore visibilità\n",
        "\n",
        "            # Aggiungi il testo della distanza\n",
        "            mid_point = ((s_center[0] + ns_center[0])//2, (s_center[1] + ns_center[1])//2)\n",
        "            cv2.putText(image,\n",
        "                       f\"{distance:.2f}m\",\n",
        "                       (int(mid_point[0]), int(mid_point[1])),\n",
        "                       cv2.FONT_HERSHEY_SIMPLEX,\n",
        "                       0.7,  # Font più grande\n",
        "                       (255, 255, 0),\n",
        "                       2)  # Testo più spesso\n",
        "\n",
        "    output_path = os.path.join(output_dir, f\"processed_{os.path.basename(image_path)}\")\n",
        "    cv2.imwrite(output_path, image)"
      ]
    },
    {
      "cell_type": "code",
      "source": [
        "def main():\n",
        "    input_dir = '/content/drive/MyDrive/test_trained_person'\n",
        "    output_dir = '/content/drive/MyDrive/distance_img_process'\n",
        "\n",
        "    for filename in os.listdir(input_dir):\n",
        "        if filename.lower().endswith(('.png', '.jpg', '.jpeg')):\n",
        "            image_path = os.path.join(input_dir, filename)\n",
        "            people = extract_people_from_image(image_path)\n",
        "            process_and_save_image(image_path, output_dir, people)\n",
        "            print(f\"Processata immagine: {filename}\")\n",
        "\n",
        "if __name__ == \"__main__\":\n",
        "    main()\n"
      ],
      "metadata": {
        "colab": {
          "base_uri": "https://localhost:8080/"
        },
        "id": "haHiYRs6dLz-",
        "outputId": "027da1b5-8b30-4e96-e669-37556849c098"
      },
      "execution_count": 18,
      "outputs": [
        {
          "output_type": "stream",
          "name": "stdout",
          "text": [
            "Processata immagine: trained1.jpg\n",
            "Processata immagine: trained2.jpg\n",
            "Processata immagine: trained3.jpg\n",
            "Processata immagine: trained4.jpg\n",
            "Processata immagine: trained5.jpg\n",
            "Processata immagine: trained6.jpg\n",
            "Processata immagine: trained7.jpg\n",
            "Processata immagine: trained8.jpg\n",
            "Processata immagine: trained9.jpg\n",
            "Processata immagine: trained10.jpg\n",
            "Processata immagine: trained11.jpg\n",
            "Processata immagine: trained12.jpg\n",
            "Processata immagine: trained13.jpg\n",
            "Processata immagine: trained14.jpg\n",
            "Processata immagine: trained15.jpg\n",
            "Processata immagine: trained16.jpg\n",
            "Processata immagine: trained17.jpg\n",
            "Processata immagine: trained18.jpg\n",
            "Processata immagine: trained19.jpg\n",
            "Processata immagine: trained20.jpg\n",
            "Processata immagine: trained21.jpg\n",
            "Processata immagine: trained22.jpg\n",
            "Processata immagine: trained23.jpg\n",
            "Processata immagine: trained24.jpg\n",
            "Processata immagine: trained25.jpg\n",
            "Processata immagine: trained26.jpg\n",
            "Processata immagine: trained27.jpg\n",
            "Processata immagine: trained28.jpg\n",
            "Processata immagine: trained29.jpg\n",
            "Processata immagine: trained30.jpg\n",
            "Processata immagine: trained31.jpg\n",
            "Processata immagine: trained32.jpg\n",
            "Processata immagine: trained33.jpg\n",
            "Processata immagine: trained34.jpg\n",
            "Processata immagine: trained35.jpg\n",
            "Processata immagine: trained36.jpg\n",
            "Processata immagine: trained37.jpg\n",
            "Processata immagine: trained38.jpg\n",
            "Processata immagine: trained39.jpg\n",
            "Processata immagine: trained40.jpg\n",
            "Processata immagine: trained41.jpg\n",
            "Processata immagine: trained42.jpg\n",
            "Processata immagine: trained43.jpg\n",
            "Processata immagine: trained44.jpg\n",
            "Processata immagine: trained45.jpg\n",
            "Processata immagine: trained46.jpg\n",
            "Processata immagine: trained47.jpg\n",
            "Processata immagine: trained48.jpg\n",
            "Processata immagine: trained49.jpg\n",
            "Processata immagine: trained50.jpg\n",
            "Processata immagine: trained51.jpg\n",
            "Processata immagine: trained52.jpg\n",
            "Processata immagine: trained53.jpg\n",
            "Processata immagine: trained54.jpg\n",
            "Processata immagine: trained55.jpg\n",
            "Processata immagine: trained56.jpg\n",
            "Processata immagine: trained57.jpg\n",
            "Processata immagine: trained58.jpg\n",
            "Processata immagine: trained59.jpg\n",
            "Processata immagine: trained60.jpg\n",
            "Processata immagine: trained61.jpg\n",
            "Processata immagine: trained62.jpg\n",
            "Processata immagine: trained63.jpg\n",
            "Processata immagine: trained64.jpg\n",
            "Processata immagine: trained65.jpg\n",
            "Processata immagine: trained66.jpg\n",
            "Processata immagine: trained67.jpg\n",
            "Processata immagine: trained68.jpg\n",
            "Processata immagine: trained69.jpg\n",
            "Processata immagine: trained70.jpg\n",
            "Processata immagine: trained71.jpg\n",
            "Processata immagine: trained72.jpg\n",
            "Processata immagine: trained73.jpg\n"
          ]
        }
      ]
    }
  ],
  "metadata": {
    "language_info": {
      "name": "python"
    },
    "colab": {
      "provenance": [],
      "include_colab_link": true
    },
    "kernelspec": {
      "name": "python3",
      "display_name": "Python 3"
    }
  },
  "nbformat": 4,
  "nbformat_minor": 0
}