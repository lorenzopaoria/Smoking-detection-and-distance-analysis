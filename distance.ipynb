{
  "cells": [
    {
      "cell_type": "markdown",
      "metadata": {
        "id": "view-in-github",
        "colab_type": "text"
      },
      "source": [
        "<a href=\"https://colab.research.google.com/github/lorenzopaoria/Smoking-detection-and-distance-analysis/blob/main/distance.ipynb\" target=\"_parent\"><img src=\"https://colab.research.google.com/assets/colab-badge.svg\" alt=\"Open In Colab\"/></a>"
      ]
    },
    {
      "cell_type": "markdown",
      "metadata": {
        "id": "HyzkxruLl2Ph"
      },
      "source": [
        "Find the distance between smoker and not"
      ]
    },
    {
      "cell_type": "code",
      "execution_count": 1,
      "metadata": {
        "id": "EeU_15l2l2Pk"
      },
      "outputs": [],
      "source": [
        "import cv2\n",
        "import numpy as np\n",
        "from dataclasses import dataclass\n",
        "from typing import List, Tuple\n",
        "import math"
      ]
    },
    {
      "cell_type": "code",
      "execution_count": 2,
      "metadata": {
        "colab": {
          "base_uri": "https://localhost:8080/"
        },
        "id": "SRzuHm6ql2Pl",
        "outputId": "b98cc3a6-56b2-4e60-a56f-580be5698b34"
      },
      "outputs": [
        {
          "output_type": "stream",
          "name": "stdout",
          "text": [
            "Mounted at /content/drive\n"
          ]
        }
      ],
      "source": [
        "from google.colab import drive\n",
        "drive.mount('/content/drive')"
      ]
    },
    {
      "cell_type": "code",
      "execution_count": 3,
      "metadata": {
        "id": "lKl6Axdsl2Pm"
      },
      "outputs": [],
      "source": [
        "@dataclass\n",
        "class Person:\n",
        "    x1: int\n",
        "    y1: int\n",
        "    x2: int\n",
        "    y2: int\n",
        "    is_smoking: bool\n",
        "    confidence: float"
      ]
    },
    {
      "cell_type": "code",
      "execution_count": 4,
      "metadata": {
        "id": "RtgLa64rl2Pn"
      },
      "outputs": [],
      "source": [
        "def extract_people_from_image(image_path: str) -> List[Person]:\n",
        "    \"\"\"\n",
        "    Estrae le informazioni sulle persone dall'immagine usando le bounding box\n",
        "    e la classificazione fumatore/non fumatore basata sui valori di confidenza\n",
        "    \"\"\"\n",
        "    image = cv2.imread(image_path)\n",
        "    height, width = image.shape[:2]\n",
        "\n",
        "    # Questo è un esempio di come estrarre le informazioni.\n",
        "    # Nella pratica, dovresti adattare questo codice per leggere i tuoi dati reali\n",
        "    people = []\n",
        "\n",
        "    # Per ogni bounding box rilevata\n",
        "    # Esempio di come leggere i dati:\n",
        "    # - Class 0 (verde) = fumatore\n",
        "    # - Class 1/2 (blu/rosso) = non fumatore\n",
        "    # Confidence values sono già presenti nelle box\n",
        "\n",
        "    return people"
      ]
    },
    {
      "cell_type": "code",
      "execution_count": 5,
      "metadata": {
        "id": "b2rWL6AAl2Pn"
      },
      "outputs": [],
      "source": [
        "def calculate_center_point(person: Person) -> Tuple[float, float]:\n",
        "    \"\"\"Calcola il punto centrale di una persona\"\"\"\n",
        "    center_x = (person.x1 + person.x2) / 2\n",
        "    center_y = (person.y1 + person.y2) / 2\n",
        "    return (center_x, center_y)\n",
        "\n",
        "def calculate_distance(p1: Person, p2: Person, pixels_per_meter: float = 100) -> float:\n",
        "    \"\"\"\n",
        "    Calcola la distanza euclidea tra due persone\n",
        "    pixels_per_meter è un fattore di conversione da calibrare in base alla tua setup\n",
        "    \"\"\"\n",
        "    c1 = calculate_center_point(p1)\n",
        "    c2 = calculate_center_point(p2)\n",
        "\n",
        "    # Distanza euclidea in pixel\n",
        "    pixel_distance = math.sqrt(\n",
        "        (c2[0] - c1[0])**2 + (c2[1] - c1[1])**2\n",
        "    )\n",
        "\n",
        "    # Converti in metri\n",
        "    return pixel_distance / pixels_per_meter"
      ]
    },
    {
      "cell_type": "code",
      "execution_count": 6,
      "metadata": {
        "id": "fpiM0LKMl2Po"
      },
      "outputs": [],
      "source": [
        "def analyze_distances(image_path: str) -> dict:\n",
        "    \"\"\"\n",
        "    Analizza le distanze tra fumatori e non fumatori in un'immagine\n",
        "    \"\"\"\n",
        "    people = extract_people_from_image(image_path)\n",
        "\n",
        "    smokers = [p for p in people if p.is_smoking]\n",
        "    non_smokers = [p for p in people if not p.is_smoking]\n",
        "\n",
        "    distances = []\n",
        "    for smoker in smokers:\n",
        "        for non_smoker in non_smokers:\n",
        "            distance = calculate_distance(smoker, non_smoker)\n",
        "            distances.append({\n",
        "                'smoker_idx': smokers.index(smoker),\n",
        "                'non_smoker_idx': non_smokers.index(non_smoker),\n",
        "                'distance': distance\n",
        "            })\n",
        "\n",
        "    return {\n",
        "        'min_distance': min(d['distance'] for d in distances) if distances else float('inf'),\n",
        "        'max_distance': max(d['distance'] for d in distances) if distances else 0,\n",
        "        'avg_distance': sum(d['distance'] for d in distances) / len(distances) if distances else 0,\n",
        "        'detailed_distances': distances\n",
        "    }\n"
      ]
    },
    {
      "cell_type": "code",
      "execution_count": 7,
      "metadata": {
        "id": "L1cSli5Tl2Po"
      },
      "outputs": [],
      "source": [
        "def visualize_distances(image_path: str, analysis_result: dict):\n",
        "    \"\"\"\n",
        "    Visualizza le distanze sull'immagine\n",
        "    \"\"\"\n",
        "    image = cv2.imread(image_path)\n",
        "    people = extract_people_from_image(image_path)\n",
        "\n",
        "    # Disegna le bounding box e le linee di distanza\n",
        "    for person in people:\n",
        "        color = (0, 255, 0) if person.is_smoking else (0, 0, 255)\n",
        "        cv2.rectangle(image, (person.x1, person.y1), (person.x2, person.y2), color, 2)\n",
        "\n",
        "    # Disegna le linee di distanza\n",
        "    for distance_info in analysis_result['detailed_distances']:\n",
        "        smoker = people[distance_info['smoker_idx']]\n",
        "        non_smoker = people[distance_info['non_smoker_idx']]\n",
        "\n",
        "        s_center = calculate_center_point(smoker)\n",
        "        ns_center = calculate_center_point(non_smoker)\n",
        "\n",
        "        # Disegna una linea tra i centri\n",
        "        cv2.line(image, (int(s_center[0]), int(s_center[1])), (int(ns_center[0]), int(ns_center[1])), (255, 255, 0), 1)\n",
        "\n",
        "        # Aggiungi la distanza come testo\n",
        "        mid_point = ((s_center[0] + ns_center[0])//2, (s_center[1] + ns_center[1])//2)\n",
        "        cv2.putText(image,\n",
        "                    f\"{distance_info['distance']:.2f}m\",\n",
        "                    (int(mid_point[0]), int(mid_point[1])),\n",
        "                    cv2.FONT_HERSHEY_SIMPLEX, 0.5, (255, 255, 0), 1)\n",
        "\n",
        "    cv2.imshow(\"Distances Analysis\", image)\n",
        "    cv2.waitKey(0)\n",
        "    cv2.destroyAllWindows()"
      ]
    },
    {
      "cell_type": "code",
      "execution_count": 8,
      "metadata": {
        "colab": {
          "base_uri": "https://localhost:8080/",
          "height": 329
        },
        "id": "GDf4-ThIl2Pp",
        "outputId": "45f5d95c-8f3b-4d01-acd6-658eb59ddbd6"
      },
      "outputs": [
        {
          "output_type": "error",
          "ename": "AttributeError",
          "evalue": "'NoneType' object has no attribute 'shape'",
          "traceback": [
            "\u001b[0;31m---------------------------------------------------------------------------\u001b[0m",
            "\u001b[0;31mAttributeError\u001b[0m                            Traceback (most recent call last)",
            "\u001b[0;32m<ipython-input-8-48d46a004ba8>\u001b[0m in \u001b[0;36m<cell line: 0>\u001b[0;34m()\u001b[0m\n\u001b[1;32m     14\u001b[0m \u001b[0;34m\u001b[0m\u001b[0m\n\u001b[1;32m     15\u001b[0m \u001b[0;32mif\u001b[0m \u001b[0m__name__\u001b[0m \u001b[0;34m==\u001b[0m \u001b[0;34m\"__main__\"\u001b[0m\u001b[0;34m:\u001b[0m\u001b[0;34m\u001b[0m\u001b[0;34m\u001b[0m\u001b[0m\n\u001b[0;32m---> 16\u001b[0;31m     \u001b[0mmain\u001b[0m\u001b[0;34m(\u001b[0m\u001b[0;34m)\u001b[0m\u001b[0;34m\u001b[0m\u001b[0;34m\u001b[0m\u001b[0m\n\u001b[0m",
            "\u001b[0;32m<ipython-input-8-48d46a004ba8>\u001b[0m in \u001b[0;36mmain\u001b[0;34m()\u001b[0m\n\u001b[1;32m      3\u001b[0m \u001b[0;34m\u001b[0m\u001b[0m\n\u001b[1;32m      4\u001b[0m     \u001b[0;31m# Analizza le distanze\u001b[0m\u001b[0;34m\u001b[0m\u001b[0;34m\u001b[0m\u001b[0m\n\u001b[0;32m----> 5\u001b[0;31m     \u001b[0manalysis\u001b[0m \u001b[0;34m=\u001b[0m \u001b[0manalyze_distances\u001b[0m\u001b[0;34m(\u001b[0m\u001b[0mimage_path\u001b[0m\u001b[0;34m)\u001b[0m\u001b[0;34m\u001b[0m\u001b[0;34m\u001b[0m\u001b[0m\n\u001b[0m\u001b[1;32m      6\u001b[0m \u001b[0;34m\u001b[0m\u001b[0m\n\u001b[1;32m      7\u001b[0m     \u001b[0;31m# Stampa i risultati\u001b[0m\u001b[0;34m\u001b[0m\u001b[0;34m\u001b[0m\u001b[0m\n",
            "\u001b[0;32m<ipython-input-6-f47cc76f701d>\u001b[0m in \u001b[0;36manalyze_distances\u001b[0;34m(image_path)\u001b[0m\n\u001b[1;32m      3\u001b[0m     \u001b[0mAnalizza\u001b[0m \u001b[0mle\u001b[0m \u001b[0mdistanze\u001b[0m \u001b[0mtra\u001b[0m \u001b[0mfumatori\u001b[0m \u001b[0me\u001b[0m \u001b[0mnon\u001b[0m \u001b[0mfumatori\u001b[0m \u001b[0;32min\u001b[0m \u001b[0mun\u001b[0m\u001b[0;31m'\u001b[0m\u001b[0mimmagine\u001b[0m\u001b[0;34m\u001b[0m\u001b[0;34m\u001b[0m\u001b[0m\n\u001b[1;32m      4\u001b[0m     \"\"\"\n\u001b[0;32m----> 5\u001b[0;31m     \u001b[0mpeople\u001b[0m \u001b[0;34m=\u001b[0m \u001b[0mextract_people_from_image\u001b[0m\u001b[0;34m(\u001b[0m\u001b[0mimage_path\u001b[0m\u001b[0;34m)\u001b[0m\u001b[0;34m\u001b[0m\u001b[0;34m\u001b[0m\u001b[0m\n\u001b[0m\u001b[1;32m      6\u001b[0m \u001b[0;34m\u001b[0m\u001b[0m\n\u001b[1;32m      7\u001b[0m     \u001b[0msmokers\u001b[0m \u001b[0;34m=\u001b[0m \u001b[0;34m[\u001b[0m\u001b[0mp\u001b[0m \u001b[0;32mfor\u001b[0m \u001b[0mp\u001b[0m \u001b[0;32min\u001b[0m \u001b[0mpeople\u001b[0m \u001b[0;32mif\u001b[0m \u001b[0mp\u001b[0m\u001b[0;34m.\u001b[0m\u001b[0mis_smoking\u001b[0m\u001b[0;34m]\u001b[0m\u001b[0;34m\u001b[0m\u001b[0;34m\u001b[0m\u001b[0m\n",
            "\u001b[0;32m<ipython-input-4-1c5695394b1d>\u001b[0m in \u001b[0;36mextract_people_from_image\u001b[0;34m(image_path)\u001b[0m\n\u001b[1;32m      5\u001b[0m     \"\"\"\n\u001b[1;32m      6\u001b[0m     \u001b[0mimage\u001b[0m \u001b[0;34m=\u001b[0m \u001b[0mcv2\u001b[0m\u001b[0;34m.\u001b[0m\u001b[0mimread\u001b[0m\u001b[0;34m(\u001b[0m\u001b[0mimage_path\u001b[0m\u001b[0;34m)\u001b[0m\u001b[0;34m\u001b[0m\u001b[0;34m\u001b[0m\u001b[0m\n\u001b[0;32m----> 7\u001b[0;31m     \u001b[0mheight\u001b[0m\u001b[0;34m,\u001b[0m \u001b[0mwidth\u001b[0m \u001b[0;34m=\u001b[0m \u001b[0mimage\u001b[0m\u001b[0;34m.\u001b[0m\u001b[0mshape\u001b[0m\u001b[0;34m[\u001b[0m\u001b[0;34m:\u001b[0m\u001b[0;36m2\u001b[0m\u001b[0;34m]\u001b[0m\u001b[0;34m\u001b[0m\u001b[0;34m\u001b[0m\u001b[0m\n\u001b[0m\u001b[1;32m      8\u001b[0m \u001b[0;34m\u001b[0m\u001b[0m\n\u001b[1;32m      9\u001b[0m     \u001b[0;31m# Questo è un esempio di come estrarre le informazioni.\u001b[0m\u001b[0;34m\u001b[0m\u001b[0;34m\u001b[0m\u001b[0m\n",
            "\u001b[0;31mAttributeError\u001b[0m: 'NoneType' object has no attribute 'shape'"
          ]
        }
      ],
      "source": [
        "def main():\n",
        "    image_path = '/content/drive/MyDrive/test_trained_person'\n",
        "\n",
        "    # Analizza le distanze\n",
        "    analysis = analyze_distances(image_path)\n",
        "\n",
        "    # Stampa i risultati\n",
        "    print(f\"Distanza minima: {analysis['min_distance']:.2f} metri\")\n",
        "    print(f\"Distanza massima: {analysis['max_distance']:.2f} metri\")\n",
        "    print(f\"Distanza media: {analysis['avg_distance']:.2f} metri\")\n",
        "\n",
        "    # Visualizza i risultati\n",
        "    visualize_distances(image_path, analysis)\n",
        "\n",
        "if __name__ == \"__main__\":\n",
        "    main()"
      ]
    }
  ],
  "metadata": {
    "language_info": {
      "name": "python"
    },
    "colab": {
      "provenance": [],
      "include_colab_link": true
    },
    "kernelspec": {
      "name": "python3",
      "display_name": "Python 3"
    }
  },
  "nbformat": 4,
  "nbformat_minor": 0
}