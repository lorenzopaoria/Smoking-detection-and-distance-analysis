{
  "cells": [
    {
      "cell_type": "markdown",
      "metadata": {
        "id": "view-in-github",
        "colab_type": "text"
      },
      "source": [
        "<a href=\"https://colab.research.google.com/github/lorenzopaoria/Smoking-detection-and-distance-analysis/blob/main/distance.ipynb\" target=\"_parent\"><img src=\"https://colab.research.google.com/assets/colab-badge.svg\" alt=\"Open In Colab\"/></a>"
      ]
    },
    {
      "cell_type": "markdown",
      "metadata": {
        "id": "NIJA1DQVax5A"
      },
      "source": [
        "Find the distance between smoker and not"
      ]
    },
    {
      "cell_type": "code",
      "execution_count": 22,
      "metadata": {
        "id": "90c--lc6ax5H"
      },
      "outputs": [],
      "source": [
        "import cv2\n",
        "import numpy as np\n",
        "from dataclasses import dataclass\n",
        "from typing import List, Tuple\n",
        "import math\n",
        "import os"
      ]
    },
    {
      "cell_type": "code",
      "execution_count": 23,
      "metadata": {
        "colab": {
          "base_uri": "https://localhost:8080/"
        },
        "id": "gGhWYCnQax5K",
        "outputId": "e80f5636-d511-4fa4-b000-12c76793b73b"
      },
      "outputs": [
        {
          "output_type": "stream",
          "name": "stdout",
          "text": [
            "Drive already mounted at /content/drive; to attempt to forcibly remount, call drive.mount(\"/content/drive\", force_remount=True).\n"
          ]
        }
      ],
      "source": [
        "from google.colab import drive\n",
        "drive.mount('/content/drive')"
      ]
    },
    {
      "cell_type": "code",
      "execution_count": 24,
      "metadata": {
        "id": "zMsO_Kp6ax5M"
      },
      "outputs": [],
      "source": [
        "@dataclass\n",
        "class Person:\n",
        "    x1: int\n",
        "    y1: int\n",
        "    x2: int\n",
        "    y2: int\n",
        "    is_smoking: bool\n",
        "    confidence: float"
      ]
    },
    {
      "cell_type": "code",
      "source": [
        "def calculate_pixels_per_meter(image_width: int, original_width: int = 2048) -> float:\n",
        "    \"\"\"\n",
        "    Calcola il fattore di scala basato sulle dimensioni originali dell'immagine\n",
        "    Assumendo che nell'immagine originale 100 pixel = 1 metro\n",
        "    \"\"\"\n",
        "    return (100 * image_width) / original_width"
      ],
      "metadata": {
        "id": "jwWlkuyHnzxa"
      },
      "execution_count": 25,
      "outputs": []
    },
    {
      "cell_type": "code",
      "execution_count": 26,
      "metadata": {
        "id": "qHUbJlgPax5N"
      },
      "outputs": [],
      "source": [
        "def extract_people_from_image(image_path: str) -> Tuple[List[Person], np.ndarray]:\n",
        "    \"\"\"\n",
        "    Estrae le informazioni sulle persone dall'immagine e ritorna anche l'immagine\n",
        "    \"\"\"\n",
        "    image = cv2.imread(image_path)\n",
        "    hsv = cv2.cvtColor(image, cv2.COLOR_BGR2HSV)\n",
        "\n",
        "    # Definizione range colori\n",
        "    lower_red1 = np.array([0, 70, 50])\n",
        "    upper_red1 = np.array([10, 255, 255])\n",
        "    lower_red2 = np.array([160, 70, 50])\n",
        "    upper_red2 = np.array([180, 255, 255])\n",
        "    lower_blue = np.array([100, 70, 50])\n",
        "    upper_blue = np.array([130, 255, 255])\n",
        "\n",
        "    # Creazione maschere\n",
        "    red_mask1 = cv2.inRange(hsv, lower_red1, upper_red1)\n",
        "    red_mask2 = cv2.inRange(hsv, lower_red2, upper_red2)\n",
        "    red_mask = cv2.bitwise_or(red_mask1, red_mask2)\n",
        "    blue_mask = cv2.inRange(hsv, lower_blue, upper_blue)\n",
        "\n",
        "    people = []\n",
        "\n",
        "    # Processa contorni rossi (fumatori)\n",
        "    red_contours, _ = cv2.findContours(red_mask, cv2.RETR_EXTERNAL, cv2.CHAIN_APPROX_SIMPLE)\n",
        "    for contour in red_contours:\n",
        "        x, y, w, h = cv2.boundingRect(contour)\n",
        "        if w > 20 and h > 20:\n",
        "            people.append(Person(\n",
        "                x1=x, y1=y, x2=x+w, y2=y+h,\n",
        "                is_smoking=True,\n",
        "                confidence=0.98\n",
        "            ))\n",
        "\n",
        "    # Processa contorni blu (non fumatori)\n",
        "    blue_contours, _ = cv2.findContours(blue_mask, cv2.RETR_EXTERNAL, cv2.CHAIN_APPROX_SIMPLE)\n",
        "    for contour in blue_contours:\n",
        "        x, y, w, h = cv2.boundingRect(contour)\n",
        "        if w > 20 and h > 20:\n",
        "            people.append(Person(\n",
        "                x1=x, y1=y, x2=x+w, y2=y+h,\n",
        "                is_smoking=False,\n",
        "                confidence=0.98\n",
        "            ))\n",
        "\n",
        "    return people, image"
      ]
    },
    {
      "cell_type": "code",
      "execution_count": 27,
      "metadata": {
        "id": "aZtewUqjax5P"
      },
      "outputs": [],
      "source": [
        "def calculate_center_point(person: Person) -> Tuple[float, float]:\n",
        "    \"\"\"Calcola il punto centrale di una persona\"\"\"\n",
        "    center_x = (person.x1 + person.x2) / 2\n",
        "    center_y = (person.y1 + person.y2) / 2\n",
        "    return (center_x, center_y)\n"
      ]
    },
    {
      "cell_type": "code",
      "execution_count": 28,
      "metadata": {
        "id": "m8ESvqphax5Q"
      },
      "outputs": [],
      "source": [
        "def calculate_distance(p1: Person, p2: Person, pixels_per_meter: float) -> float:\n",
        "    \"\"\"Calcola la distanza euclidea tra due persone\"\"\"\n",
        "    c1 = calculate_center_point(p1)\n",
        "    c2 = calculate_center_point(p2)\n",
        "\n",
        "    pixel_distance = math.sqrt(\n",
        "        (c2[0] - c1[0])**2 + (c2[1] - c1[1])**2\n",
        "    )\n",
        "\n",
        "    return pixel_distance / pixels_per_meter"
      ]
    },
    {
      "cell_type": "code",
      "execution_count": 29,
      "metadata": {
        "id": "DZIUMc2Aax5R"
      },
      "outputs": [],
      "source": [
        "def find_smoker_nonsmoker_distances(people: List[Person], pixels_per_meter: float) -> List[Tuple[Person, Person, float]]:\n",
        "    \"\"\"\n",
        "    Trova tutte le distanze tra fumatori e non fumatori\n",
        "    \"\"\"\n",
        "    smokers = [p for p in people if p.is_smoking]\n",
        "    non_smokers = [p for p in people if not p.is_smoking]\n",
        "    distances = []\n",
        "\n",
        "    for smoker in smokers:\n",
        "        for non_smoker in non_smokers:\n",
        "            distance = calculate_distance(smoker, non_smoker, pixels_per_meter)\n",
        "            distances.append((smoker, non_smoker, distance))\n",
        "\n",
        "    return distances"
      ]
    },
    {
      "cell_type": "code",
      "execution_count": 30,
      "metadata": {
        "id": "3vfyIteXax5S"
      },
      "outputs": [],
      "source": [
        "def process_and_save_image(image_path: str, output_dir: str) -> None:\n",
        "    \"\"\"\n",
        "    Processa un'immagine disegnando le distanze tra i centri\n",
        "    delle bounding box di fumatori e non fumatori\n",
        "    \"\"\"\n",
        "    os.makedirs(output_dir, exist_ok=True)\n",
        "\n",
        "    # Estrai le persone e ottieni l'immagine\n",
        "    people, image = extract_people_from_image(image_path)\n",
        "\n",
        "    # Calcola il fattore di scala basato sulla larghezza dell'immagine\n",
        "    pixels_per_meter = calculate_pixels_per_meter(image.shape[1])\n",
        "\n",
        "    # Definizione colori\n",
        "    RED = (0, 0, 255)     # BGR per rosso (fumatori)\n",
        "    BLUE = (255, 0, 0)    # BGR per blu (non fumatori)\n",
        "    YELLOW = (0, 255, 255) # BGR per giallo (centri)\n",
        "    BROWN = (42, 42, 165)  # BGR per marrone (linee distanza)\n",
        "\n",
        "    # Disegna le bounding box e i centri\n",
        "    for person in people:\n",
        "        color = RED if person.is_smoking else BLUE\n",
        "        cv2.rectangle(image, (person.x1, person.y1), (person.x2, person.y2), color, 2)\n",
        "\n",
        "        # Disegna il punto centrale\n",
        "        center = calculate_center_point(person)\n",
        "        cv2.circle(image, (int(center[0]), int(center[1])), 3, YELLOW, -1)\n",
        "\n",
        "    # Calcola e disegna le distanze\n",
        "    distances = find_smoker_nonsmoker_distances(people, pixels_per_meter)\n",
        "    for smoker, non_smoker, distance in distances:\n",
        "        s_center = calculate_center_point(smoker)\n",
        "        ns_center = calculate_center_point(non_smoker)\n",
        "\n",
        "        # Disegna la linea tra i centri\n",
        "        cv2.line(image,\n",
        "                (int(s_center[0]), int(s_center[1])),\n",
        "                (int(ns_center[0]), int(ns_center[1])),\n",
        "                BROWN, 2)\n",
        "\n",
        "        # Aggiungi il testo della distanza\n",
        "        mid_point = ((s_center[0] + ns_center[0])//2, (s_center[1] + ns_center[1])//2)\n",
        "        cv2.putText(image,\n",
        "                   f\"{distance:.2f}m\",\n",
        "                   (int(mid_point[0]), int(mid_point[1])),\n",
        "                   cv2.FONT_HERSHEY_SIMPLEX,\n",
        "                   0.7,\n",
        "                   BROWN,\n",
        "                   2)\n",
        "\n",
        "    output_path = os.path.join(output_dir, f\"distances_{os.path.basename(image_path)}\")\n",
        "    cv2.imwrite(output_path, image)\n",
        "    print(f\"Distanze calcolate usando {pixels_per_meter:.2f} pixels/metro\")"
      ]
    },
    {
      "cell_type": "code",
      "source": [
        "def main():\n",
        "    input_dir = '/content/drive/MyDrive/test_trained_person'\n",
        "    output_dir = '/content/drive/MyDrive/distance_img_process'\n",
        "\n",
        "    for filename in os.listdir(input_dir):\n",
        "        if filename.lower().endswith(('.png', '.jpg', '.jpeg')):\n",
        "            image_path = os.path.join(input_dir, filename)\n",
        "            process_and_save_image(image_path, output_dir)\n",
        "            print(f\"Processata immagine: {filename}\")\n",
        "\n",
        "if __name__ == \"__main__\":\n",
        "    main()"
      ],
      "metadata": {
        "colab": {
          "base_uri": "https://localhost:8080/"
        },
        "id": "haHiYRs6dLz-",
        "outputId": "3761e36f-8281-4183-cbd1-7168eeba43e0"
      },
      "execution_count": 31,
      "outputs": [
        {
          "output_type": "stream",
          "name": "stdout",
          "text": [
            "Distanze calcolate usando 100.00 pixels/metro\n",
            "Processata immagine: trained1.jpg\n",
            "Distanze calcolate usando 100.00 pixels/metro\n",
            "Processata immagine: trained2.jpg\n",
            "Distanze calcolate usando 100.00 pixels/metro\n",
            "Processata immagine: trained3.jpg\n",
            "Distanze calcolate usando 100.00 pixels/metro\n",
            "Processata immagine: trained4.jpg\n",
            "Distanze calcolate usando 100.00 pixels/metro\n",
            "Processata immagine: trained5.jpg\n",
            "Distanze calcolate usando 100.00 pixels/metro\n",
            "Processata immagine: trained6.jpg\n",
            "Distanze calcolate usando 100.00 pixels/metro\n",
            "Processata immagine: trained7.jpg\n",
            "Distanze calcolate usando 100.00 pixels/metro\n",
            "Processata immagine: trained8.jpg\n",
            "Distanze calcolate usando 100.00 pixels/metro\n",
            "Processata immagine: trained9.jpg\n",
            "Distanze calcolate usando 100.00 pixels/metro\n",
            "Processata immagine: trained10.jpg\n",
            "Distanze calcolate usando 100.00 pixels/metro\n",
            "Processata immagine: trained11.jpg\n",
            "Distanze calcolate usando 100.00 pixels/metro\n",
            "Processata immagine: trained12.jpg\n",
            "Distanze calcolate usando 100.00 pixels/metro\n",
            "Processata immagine: trained13.jpg\n",
            "Distanze calcolate usando 100.00 pixels/metro\n",
            "Processata immagine: trained14.jpg\n",
            "Distanze calcolate usando 100.00 pixels/metro\n",
            "Processata immagine: trained15.jpg\n",
            "Distanze calcolate usando 100.00 pixels/metro\n",
            "Processata immagine: trained16.jpg\n",
            "Distanze calcolate usando 100.00 pixels/metro\n",
            "Processata immagine: trained17.jpg\n",
            "Distanze calcolate usando 100.00 pixels/metro\n",
            "Processata immagine: trained18.jpg\n",
            "Distanze calcolate usando 100.00 pixels/metro\n",
            "Processata immagine: trained19.jpg\n",
            "Distanze calcolate usando 100.00 pixels/metro\n",
            "Processata immagine: trained20.jpg\n",
            "Distanze calcolate usando 100.00 pixels/metro\n",
            "Processata immagine: trained21.jpg\n",
            "Distanze calcolate usando 100.00 pixels/metro\n",
            "Processata immagine: trained22.jpg\n",
            "Distanze calcolate usando 100.00 pixels/metro\n",
            "Processata immagine: trained23.jpg\n",
            "Distanze calcolate usando 100.00 pixels/metro\n",
            "Processata immagine: trained24.jpg\n",
            "Distanze calcolate usando 100.00 pixels/metro\n",
            "Processata immagine: trained25.jpg\n",
            "Distanze calcolate usando 100.00 pixels/metro\n",
            "Processata immagine: trained26.jpg\n",
            "Distanze calcolate usando 100.00 pixels/metro\n",
            "Processata immagine: trained27.jpg\n",
            "Distanze calcolate usando 100.00 pixels/metro\n",
            "Processata immagine: trained28.jpg\n",
            "Distanze calcolate usando 100.00 pixels/metro\n",
            "Processata immagine: trained29.jpg\n",
            "Distanze calcolate usando 100.00 pixels/metro\n",
            "Processata immagine: trained30.jpg\n",
            "Distanze calcolate usando 100.00 pixels/metro\n",
            "Processata immagine: trained31.jpg\n",
            "Distanze calcolate usando 100.00 pixels/metro\n",
            "Processata immagine: trained32.jpg\n",
            "Distanze calcolate usando 100.00 pixels/metro\n",
            "Processata immagine: trained33.jpg\n",
            "Distanze calcolate usando 100.00 pixels/metro\n",
            "Processata immagine: trained34.jpg\n",
            "Distanze calcolate usando 100.00 pixels/metro\n",
            "Processata immagine: trained35.jpg\n",
            "Distanze calcolate usando 100.00 pixels/metro\n",
            "Processata immagine: trained36.jpg\n",
            "Distanze calcolate usando 100.00 pixels/metro\n",
            "Processata immagine: trained37.jpg\n",
            "Distanze calcolate usando 100.00 pixels/metro\n",
            "Processata immagine: trained38.jpg\n",
            "Distanze calcolate usando 100.00 pixels/metro\n",
            "Processata immagine: trained39.jpg\n",
            "Distanze calcolate usando 100.00 pixels/metro\n",
            "Processata immagine: trained40.jpg\n",
            "Distanze calcolate usando 100.00 pixels/metro\n",
            "Processata immagine: trained41.jpg\n",
            "Distanze calcolate usando 100.00 pixels/metro\n",
            "Processata immagine: trained42.jpg\n",
            "Distanze calcolate usando 100.00 pixels/metro\n",
            "Processata immagine: trained43.jpg\n",
            "Distanze calcolate usando 100.00 pixels/metro\n",
            "Processata immagine: trained44.jpg\n",
            "Distanze calcolate usando 100.00 pixels/metro\n",
            "Processata immagine: trained45.jpg\n",
            "Distanze calcolate usando 100.00 pixels/metro\n",
            "Processata immagine: trained46.jpg\n",
            "Distanze calcolate usando 100.00 pixels/metro\n",
            "Processata immagine: trained47.jpg\n",
            "Distanze calcolate usando 100.00 pixels/metro\n",
            "Processata immagine: trained48.jpg\n",
            "Distanze calcolate usando 100.00 pixels/metro\n",
            "Processata immagine: trained49.jpg\n",
            "Distanze calcolate usando 100.00 pixels/metro\n",
            "Processata immagine: trained50.jpg\n",
            "Distanze calcolate usando 100.00 pixels/metro\n",
            "Processata immagine: trained51.jpg\n",
            "Distanze calcolate usando 100.00 pixels/metro\n",
            "Processata immagine: trained52.jpg\n",
            "Distanze calcolate usando 100.00 pixels/metro\n",
            "Processata immagine: trained53.jpg\n",
            "Distanze calcolate usando 100.00 pixels/metro\n",
            "Processata immagine: trained54.jpg\n",
            "Distanze calcolate usando 100.00 pixels/metro\n",
            "Processata immagine: trained55.jpg\n",
            "Distanze calcolate usando 100.00 pixels/metro\n",
            "Processata immagine: trained56.jpg\n",
            "Distanze calcolate usando 100.00 pixels/metro\n",
            "Processata immagine: trained57.jpg\n",
            "Distanze calcolate usando 100.00 pixels/metro\n",
            "Processata immagine: trained58.jpg\n",
            "Distanze calcolate usando 100.00 pixels/metro\n",
            "Processata immagine: trained59.jpg\n",
            "Distanze calcolate usando 100.00 pixels/metro\n",
            "Processata immagine: trained60.jpg\n",
            "Distanze calcolate usando 100.00 pixels/metro\n",
            "Processata immagine: trained61.jpg\n",
            "Distanze calcolate usando 100.00 pixels/metro\n",
            "Processata immagine: trained62.jpg\n",
            "Distanze calcolate usando 100.00 pixels/metro\n",
            "Processata immagine: trained63.jpg\n",
            "Distanze calcolate usando 100.00 pixels/metro\n",
            "Processata immagine: trained64.jpg\n",
            "Distanze calcolate usando 100.00 pixels/metro\n",
            "Processata immagine: trained65.jpg\n",
            "Distanze calcolate usando 100.00 pixels/metro\n",
            "Processata immagine: trained66.jpg\n",
            "Distanze calcolate usando 100.00 pixels/metro\n",
            "Processata immagine: trained67.jpg\n",
            "Distanze calcolate usando 100.00 pixels/metro\n",
            "Processata immagine: trained68.jpg\n",
            "Distanze calcolate usando 100.00 pixels/metro\n",
            "Processata immagine: trained69.jpg\n",
            "Distanze calcolate usando 100.00 pixels/metro\n",
            "Processata immagine: trained70.jpg\n",
            "Distanze calcolate usando 100.00 pixels/metro\n",
            "Processata immagine: trained71.jpg\n",
            "Distanze calcolate usando 100.00 pixels/metro\n",
            "Processata immagine: trained72.jpg\n",
            "Distanze calcolate usando 100.00 pixels/metro\n",
            "Processata immagine: trained73.jpg\n"
          ]
        }
      ]
    }
  ],
  "metadata": {
    "language_info": {
      "name": "python"
    },
    "colab": {
      "provenance": [],
      "include_colab_link": true
    },
    "kernelspec": {
      "name": "python3",
      "display_name": "Python 3"
    }
  },
  "nbformat": 4,
  "nbformat_minor": 0
}