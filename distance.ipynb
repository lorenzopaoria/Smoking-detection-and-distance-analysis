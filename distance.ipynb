{
  "cells": [
    {
      "cell_type": "markdown",
      "metadata": {
        "id": "view-in-github",
        "colab_type": "text"
      },
      "source": [
        "<a href=\"https://colab.research.google.com/github/lorenzopaoria/Smoking-detection-and-distance-analysis/blob/main/distance.ipynb\" target=\"_parent\"><img src=\"https://colab.research.google.com/assets/colab-badge.svg\" alt=\"Open In Colab\"/></a>"
      ]
    },
    {
      "cell_type": "markdown",
      "metadata": {
        "id": "NIJA1DQVax5A"
      },
      "source": [
        "Find the distance between smoker and not"
      ]
    },
    {
      "cell_type": "code",
      "execution_count": 32,
      "metadata": {
        "id": "90c--lc6ax5H"
      },
      "outputs": [],
      "source": [
        "import cv2\n",
        "import numpy as np\n",
        "from dataclasses import dataclass\n",
        "from typing import List, Tuple\n",
        "import math\n",
        "import os\n",
        "import json"
      ]
    },
    {
      "cell_type": "code",
      "execution_count": 33,
      "metadata": {
        "colab": {
          "base_uri": "https://localhost:8080/"
        },
        "id": "gGhWYCnQax5K",
        "outputId": "190ee140-71d5-4370-9718-145c7c214f64"
      },
      "outputs": [
        {
          "output_type": "stream",
          "name": "stdout",
          "text": [
            "Drive already mounted at /content/drive; to attempt to forcibly remount, call drive.mount(\"/content/drive\", force_remount=True).\n"
          ]
        }
      ],
      "source": [
        "from google.colab import drive\n",
        "drive.mount('/content/drive')"
      ]
    },
    {
      "cell_type": "code",
      "execution_count": 34,
      "metadata": {
        "id": "zMsO_Kp6ax5M"
      },
      "outputs": [],
      "source": [
        "@dataclass\n",
        "class Person:\n",
        "    x1: int\n",
        "    y1: int\n",
        "    x2: int\n",
        "    y2: int\n",
        "    is_smoking: bool\n",
        "    confidence: float"
      ]
    },
    {
      "cell_type": "code",
      "execution_count": 35,
      "metadata": {
        "id": "jwWlkuyHnzxa"
      },
      "outputs": [],
      "source": [
        "def calculate_pixels_per_meter(image_width: int, original_width: int = 2048) -> float:\n",
        "    \"\"\"\n",
        "    Calcola il fattore di scala basato sulle dimensioni originali dell'immagine\n",
        "    Assumendo che nell'immagine originale 100 pixel = 1 metro\n",
        "    \"\"\"\n",
        "    return (100 * image_width) / original_width"
      ]
    },
    {
      "cell_type": "code",
      "execution_count": 36,
      "metadata": {
        "id": "aZtewUqjax5P"
      },
      "outputs": [],
      "source": [
        "def calculate_center_point(person: Person) -> Tuple[float, float]:\n",
        "    \"\"\"Calcola il punto centrale di una persona\"\"\"\n",
        "    center_x = (person.x1 + person.x2) / 2\n",
        "    center_y = (person.y1 + person.y2) / 2\n",
        "    return (center_x, center_y)"
      ]
    },
    {
      "cell_type": "code",
      "execution_count": 37,
      "metadata": {
        "id": "m8ESvqphax5Q"
      },
      "outputs": [],
      "source": [
        "def calculate_distance(p1: Person, p2: Person, pixels_per_meter: float) -> float:\n",
        "    \"\"\"Calcola la distanza euclidea tra due persone\"\"\"\n",
        "    c1 = calculate_center_point(p1)\n",
        "    c2 = calculate_center_point(p2)\n",
        "\n",
        "    pixel_distance = math.sqrt(\n",
        "        (c2[0] - c1[0])**2 + (c2[1] - c1[1])**2\n",
        "    )\n",
        "\n",
        "    return pixel_distance / pixels_per_meter"
      ]
    },
    {
      "cell_type": "code",
      "execution_count": 38,
      "metadata": {
        "id": "DZIUMc2Aax5R"
      },
      "outputs": [],
      "source": [
        "def find_smoker_nonsmoker_distances(people: List[Person], pixels_per_meter: float) -> List[Tuple[Person, Person, float]]:\n",
        "    \"\"\"\n",
        "    Trova tutte le distanze tra fumatori e non fumatori\n",
        "    \"\"\"\n",
        "    smokers = [p for p in people if p.is_smoking]\n",
        "    non_smokers = [p for p in people if not p.is_smoking]\n",
        "    distances = []\n",
        "\n",
        "    for smoker in smokers:\n",
        "        for non_smoker in non_smokers:\n",
        "            distance = calculate_distance(smoker, non_smoker, pixels_per_meter)\n",
        "            distances.append((smoker, non_smoker, distance))\n",
        "\n",
        "    return distances"
      ]
    },
    {
      "cell_type": "code",
      "execution_count": 39,
      "metadata": {
        "id": "3J7n2BjYqUr9"
      },
      "outputs": [],
      "source": [
        "def load_detections_from_json(json_path: str) -> List[Person]:\n",
        "    \"\"\"\n",
        "    Carica le detection dal file JSON e le converte in oggetti Person\n",
        "    \"\"\"\n",
        "    with open(json_path, 'r') as f:\n",
        "        data = json.load(f)\n",
        "\n",
        "    people = []\n",
        "    for detection in data['detections']:\n",
        "        # Classe 2 rappresenta il fumatore, 1 il non fumatore\n",
        "        is_smoking = detection['class'] == 2\n",
        "        is_not_smoking = detection['class'] == 1\n",
        "        bbox = detection['bbox']\n",
        "        people.append(Person(\n",
        "            x1=int(bbox[0]),\n",
        "            y1=int(bbox[1]),\n",
        "            x2=int(bbox[2]),\n",
        "            y2=int(bbox[3]),\n",
        "            is_smoking=is_smoking,\n",
        "            confidence=detection['confidence']\n",
        "        ))\n",
        "\n",
        "    return people"
      ]
    },
    {
      "cell_type": "code",
      "execution_count": 40,
      "metadata": {
        "id": "3vfyIteXax5S"
      },
      "outputs": [],
      "source": [
        "def process_and_save_image(image_path: str, people: List[Person], output_dir: str) -> None:\n",
        "    \"\"\"\n",
        "    Processa un'immagine disegnando le distanze tra i centri delle bounding box\n",
        "    \"\"\"\n",
        "    os.makedirs(output_dir, exist_ok=True)\n",
        "\n",
        "    # Carica l'immagine\n",
        "    image = cv2.imread(image_path)\n",
        "    if image is None:\n",
        "        print(f\"Errore nel caricamento dell'immagine: {image_path}\")\n",
        "        return\n",
        "\n",
        "    # Calcola il fattore di scala basato sulla larghezza dell'immagine\n",
        "    pixels_per_meter = calculate_pixels_per_meter(image.shape[1])\n",
        "\n",
        "    # Definizione colori\n",
        "    YELLOW = (0, 255, 255)  # BGR per giallo (centri)\n",
        "    BROWN = (42, 42, 165)   # BGR per marrone (linee distanza)\n",
        "    RED = (0, 0, 255)       # BGR per rosso (fumatori)\n",
        "    BLUE = (255, 0, 0)      # BGR per blu (non fumatori)\n",
        "\n",
        "    # Disegna le bounding box e i centri\n",
        "    for person in people:\n",
        "        # Colore basato sul tipo di persona\n",
        "        color = RED if person.is_smoking else BLUE\n",
        "\n",
        "        # Disegna la bounding box\n",
        "        cv2.rectangle(image,\n",
        "                     (int(person.x1), int(person.y1)),\n",
        "                     (int(person.x2), int(person.y2)),\n",
        "                     color, 2)\n",
        "\n",
        "        # Disegna il punto centrale\n",
        "        center = calculate_center_point(person)\n",
        "        cv2.circle(image, (int(center[0]), int(center[1])), 3, YELLOW, -1)\n",
        "\n",
        "    # Calcola e disegna le distanze\n",
        "    distances = find_smoker_nonsmoker_distances(people, pixels_per_meter)\n",
        "    for smoker, non_smoker, distance in distances:\n",
        "        s_center = calculate_center_point(smoker)\n",
        "        ns_center = calculate_center_point(non_smoker)\n",
        "\n",
        "        # Disegna la linea tra i centri\n",
        "        cv2.line(image,\n",
        "                (int(s_center[0]), int(s_center[1])),\n",
        "                (int(ns_center[0]), int(ns_center[1])),\n",
        "                BROWN, 2)\n",
        "\n",
        "        # Aggiungi il testo della distanza\n",
        "        mid_point = ((s_center[0] + ns_center[0])//2, (s_center[1] + ns_center[1])//2)\n",
        "        cv2.putText(image,\n",
        "                   f\"{distance:.2f}m\",\n",
        "                   (int(mid_point[0]), int(mid_point[1])),\n",
        "                   cv2.FONT_HERSHEY_SIMPLEX,\n",
        "                   0.7,\n",
        "                   BROWN,\n",
        "                   2)\n",
        "\n",
        "    output_path = os.path.join(output_dir, f\"distances_{os.path.basename(image_path)}\")\n",
        "    cv2.imwrite(output_path, image)\n",
        "    print(f\"Distanze calcolate usando {pixels_per_meter:.2f} pixels/metro\")"
      ]
    },
    {
      "cell_type": "code",
      "execution_count": 41,
      "metadata": {
        "colab": {
          "base_uri": "https://localhost:8080/"
        },
        "id": "haHiYRs6dLz-",
        "outputId": "1165b19e-5ede-4435-ccf0-40c1b5499d21"
      },
      "outputs": [
        {
          "output_type": "stream",
          "name": "stdout",
          "text": [
            "Errore nel processare trained_40.jpg: Person.__init__() got an unexpected keyword argument 'is_not_smoking'\n",
            "Errore nel processare trained_41.jpg: Person.__init__() got an unexpected keyword argument 'is_not_smoking'\n",
            "Errore nel processare trained_42.jpg: Person.__init__() got an unexpected keyword argument 'is_not_smoking'\n",
            "Errore nel processare trained_43.jpg: Person.__init__() got an unexpected keyword argument 'is_not_smoking'\n",
            "Errore nel processare trained_44.jpg: Person.__init__() got an unexpected keyword argument 'is_not_smoking'\n",
            "Errore nel processare trained_45.jpg: Person.__init__() got an unexpected keyword argument 'is_not_smoking'\n",
            "Errore nel processare trained_46.jpg: Person.__init__() got an unexpected keyword argument 'is_not_smoking'\n",
            "Errore nel processare trained_47.jpg: Person.__init__() got an unexpected keyword argument 'is_not_smoking'\n",
            "Errore nel processare trained_48.jpg: Person.__init__() got an unexpected keyword argument 'is_not_smoking'\n",
            "Errore nel processare trained_49.jpg: Person.__init__() got an unexpected keyword argument 'is_not_smoking'\n",
            "Errore nel processare trained_50.jpg: Person.__init__() got an unexpected keyword argument 'is_not_smoking'\n",
            "Errore nel processare trained_51.jpg: Person.__init__() got an unexpected keyword argument 'is_not_smoking'\n",
            "Errore nel processare trained_52.jpg: Person.__init__() got an unexpected keyword argument 'is_not_smoking'\n",
            "Errore nel processare trained_53.jpg: Person.__init__() got an unexpected keyword argument 'is_not_smoking'\n",
            "Errore nel processare trained_54.jpg: Person.__init__() got an unexpected keyword argument 'is_not_smoking'\n",
            "Errore nel processare trained_55.jpg: Person.__init__() got an unexpected keyword argument 'is_not_smoking'\n",
            "Errore nel processare trained_56.jpg: Person.__init__() got an unexpected keyword argument 'is_not_smoking'\n",
            "Errore nel processare trained_57.jpg: Person.__init__() got an unexpected keyword argument 'is_not_smoking'\n",
            "Errore nel processare trained_58.jpg: Person.__init__() got an unexpected keyword argument 'is_not_smoking'\n",
            "Errore nel processare trained_59.jpg: Person.__init__() got an unexpected keyword argument 'is_not_smoking'\n",
            "Errore nel processare trained_60.jpg: Person.__init__() got an unexpected keyword argument 'is_not_smoking'\n",
            "Errore nel processare trained_61.jpg: Person.__init__() got an unexpected keyword argument 'is_not_smoking'\n",
            "Errore nel processare trained_62.jpg: Person.__init__() got an unexpected keyword argument 'is_not_smoking'\n",
            "Errore nel processare trained_63.jpg: Person.__init__() got an unexpected keyword argument 'is_not_smoking'\n",
            "Errore nel processare trained_64.jpg: Person.__init__() got an unexpected keyword argument 'is_not_smoking'\n",
            "Errore nel processare trained_65.jpg: Person.__init__() got an unexpected keyword argument 'is_not_smoking'\n",
            "Errore nel processare trained_66.jpg: Person.__init__() got an unexpected keyword argument 'is_not_smoking'\n",
            "Errore nel processare trained_67.jpg: Person.__init__() got an unexpected keyword argument 'is_not_smoking'\n",
            "Errore nel processare trained_68.jpg: Person.__init__() got an unexpected keyword argument 'is_not_smoking'\n",
            "Errore nel processare trained_69.jpg: Person.__init__() got an unexpected keyword argument 'is_not_smoking'\n",
            "Errore nel processare trained_70.jpg: Person.__init__() got an unexpected keyword argument 'is_not_smoking'\n",
            "Errore nel processare trained_71.jpg: Person.__init__() got an unexpected keyword argument 'is_not_smoking'\n",
            "Errore nel processare trained_72.jpg: Person.__init__() got an unexpected keyword argument 'is_not_smoking'\n",
            "Errore nel processare trained_73.jpg: Person.__init__() got an unexpected keyword argument 'is_not_smoking'\n"
          ]
        }
      ],
      "source": [
        "def main():\n",
        "    base_dir = '/content/drive/MyDrive/test_trained_person'\n",
        "    output_dir = '/content/drive/MyDrive/distance_img_process'\n",
        "\n",
        "    # Processa tutte le immagini nella cartella\n",
        "    images_dir = os.path.join(base_dir, 'images')\n",
        "    coordinates_dir = os.path.join(base_dir, 'coordinates')\n",
        "\n",
        "    for filename in os.listdir(images_dir):\n",
        "        if filename.lower().endswith(('.png', '.jpg', '.jpeg')):\n",
        "            # Costruisci i percorsi dei file\n",
        "            image_path = os.path.join(images_dir, filename)\n",
        "            json_name = f\"{os.path.splitext(filename)[0]}.json\"\n",
        "            json_path = os.path.join(coordinates_dir, json_name)\n",
        "\n",
        "            if os.path.exists(json_path):\n",
        "                try:\n",
        "                    # Carica le detection dal JSON\n",
        "                    people = load_detections_from_json(json_path)\n",
        "                    # Processa l'immagine\n",
        "                    process_and_save_image(image_path, people, output_dir)\n",
        "                    print(f\"Processata immagine: {filename}\")\n",
        "                except Exception as e:\n",
        "                    print(f\"Errore nel processare {filename}: {str(e)}\")\n",
        "            else:\n",
        "                print(f\"File JSON non trovato per {filename}\")\n",
        "\n",
        "if __name__ == \"__main__\":\n",
        "    main()"
      ]
    }
  ],
  "metadata": {
    "colab": {
      "provenance": [],
      "include_colab_link": true
    },
    "kernelspec": {
      "display_name": "Python 3",
      "name": "python3"
    },
    "language_info": {
      "name": "python"
    }
  },
  "nbformat": 4,
  "nbformat_minor": 0
}