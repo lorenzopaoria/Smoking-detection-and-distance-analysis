{
  "cells": [
    {
      "cell_type": "markdown",
      "metadata": {
        "colab_type": "text",
        "id": "view-in-github"
      },
      "source": [
        "<a href=\"https://colab.research.google.com/github/lorenzopaoria/Smoking-detection-and-distance-analysis/blob/main/model.ipynb\" target=\"_parent\"><img src=\"https://colab.research.google.com/assets/colab-badge.svg\" alt=\"Open In Colab\"/></a>"
      ]
    },
    {
      "cell_type": "markdown",
      "metadata": {
        "id": "jW-6xHSkVRra"
      },
      "source": [
        "Train a model for sigarette detection"
      ]
    },
    {
      "cell_type": "code",
      "execution_count": null,
      "metadata": {
        "colab": {
          "base_uri": "https://localhost:8080/"
        },
        "id": "MSPrRYf-UiIR",
        "outputId": "d7890523-25a8-4eb7-eba8-9b8c4c870e11"
      },
      "outputs": [],
      "source": [
        "from ultralytics import YOLO\n",
        "import torch\n",
        "from pathlib import Path\n",
        "import json\n",
        "from datetime import datetime\n",
        "import psutil\n",
        "from tqdm.auto import tqdm"
      ]
    },
    {
      "cell_type": "code",
      "execution_count": null,
      "metadata": {
        "colab": {
          "base_uri": "https://localhost:8080/"
        },
        "id": "mNZIwrXGVosy",
        "outputId": "e854c683-9a1f-46b0-aff2-934aba00e351"
      },
      "outputs": [],
      "source": [
        "from google.colab import drive\n",
        "drive.mount('/content/drive')"
      ]
    },
    {
      "cell_type": "code",
      "execution_count": null,
      "metadata": {},
      "outputs": [],
      "source": [
        "class ModelCallback:\n",
        "    def __init__(self, save_dir, epochs):\n",
        "        self.save_dir = Path(save_dir)\n",
        "        self.save_dir.mkdir(parents=True, exist_ok=True)\n",
        "        self.best_map = 0\n",
        "        self.training_history = []\n",
        "        self.pbar = tqdm(total=epochs, desc=\"Training Progress\")\n",
        "        \n",
        "    def on_train_epoch_end(self, trainer):\n",
        "        metrics = trainer.metrics\n",
        "        epoch = trainer.epoch\n",
        "        current_map = metrics.get('metrics/mAP50-95(B)', 0)\n",
        "        \n",
        "        self.training_history.append({\n",
        "            'epoch': epoch,\n",
        "            'mAP': current_map,\n",
        "            'metrics': metrics\n",
        "        })\n",
        "        \n",
        "        with open(self.save_dir / 'training_history.json', 'w') as f:\n",
        "            json.dump(self.training_history, f, indent=4)\n",
        "        \n",
        "        # Save best model\n",
        "        if current_map > self.best_map:\n",
        "            self.best_map = current_map\n",
        "            best_path = self.save_dir / f'best_model_map_{current_map:.4f}.pt'\n",
        "            torch.save(trainer.model.state_dict(), best_path)\n",
        "            \n",
        "        # Save last model\n",
        "        last_path = self.save_dir / 'last_model.pt'\n",
        "        torch.save(trainer.model.state_dict(), last_path)\n",
        "        \n",
        "        # Create a copy of last model with epoch info\n",
        "        epoch_path = self.save_dir / f'last_model_epoch_{epoch}.pt'\n",
        "        torch.save(trainer.model.state_dict(), epoch_path)\n",
        "        \n",
        "        self.pbar.update(1)\n",
        "        self.pbar.set_postfix({'mAP': f'{current_map:.4f}'})\n",
        "\n",
        "    def on_train_end(self, trainer):\n",
        "        self.pbar.close()"
      ]
    },
    {
      "cell_type": "code",
      "execution_count": null,
      "metadata": {},
      "outputs": [],
      "source": [
        "def check_system_usage():\n",
        "    with tqdm(total=4, desc=\"System Check\") as pbar:\n",
        "        cpu = psutil.cpu_percent()\n",
        "        pbar.update(1)\n",
        "        ram = psutil.virtual_memory().percent\n",
        "        pbar.update(1)\n",
        "        gpu_allocated = gpu_reserved = 0\n",
        "        if torch.cuda.is_available():\n",
        "            gpu_allocated = torch.cuda.memory_allocated() / 1e9\n",
        "            pbar.update(1)\n",
        "            gpu_reserved = torch.cuda.memory_reserved() / 1e9\n",
        "            pbar.update(1)\n",
        "        return {\n",
        "            'CPU': f'{cpu}%',\n",
        "            'RAM': f'{ram}%',\n",
        "            'GPU Allocated': f'{gpu_allocated:.2f} GB',\n",
        "            'GPU Reserved': f'{gpu_reserved:.2f} GB'\n",
        "        }"
      ]
    },
    {
      "cell_type": "code",
      "execution_count": null,
      "metadata": {},
      "outputs": [],
      "source": [
        "def train_model(yaml_path, save_dir, epochs=100, imgsz=640, batch=16):\n",
        "    print(\"Initializing model...\")\n",
        "    model = YOLO('yolov8n.pt')\n",
        "    callback = ModelCallback(save_dir, epochs)\n",
        "    \n",
        "    results = model.train(\n",
        "        data=yaml_path,\n",
        "        epochs=epochs,\n",
        "        imgsz=imgsz,\n",
        "        batch=batch,\n",
        "        device=0 if torch.cuda.is_available() else 'cpu',\n",
        "        patience=50,\n",
        "        save=True,\n",
        "        project=str(save_dir),\n",
        "        name='train',\n",
        "        exist_ok=True,\n",
        "        callbacks=[callback]\n",
        "    )\n",
        "    \n",
        "    return model, callback.best_map"
      ]
    },
    {
      "cell_type": "code",
      "execution_count": null,
      "metadata": {},
      "outputs": [],
      "source": [
        "if __name__ == \"__main__\":\n",
        "    yaml_path = '/content/drive/MyDrive/Photo person/data.yaml'\n",
        "    save_dir = Path('/content/drive/MyDrive/pth_person_detect')\n",
        "    timestamp = datetime.now().strftime(\"%Y%m%d_%H%M%S\")\n",
        "    run_dir = save_dir / f'run_{timestamp}'\n",
        "    \n",
        "    with tqdm(total=1, desc=\"Training Model\") as pbar:\n",
        "        model, best_map = train_model(yaml_path, run_dir, epochs=30)\n",
        "        pbar.update(1)\n",
        "    \n",
        "    usage = check_system_usage()\n",
        "    for metric, value in usage.items():\n",
        "        print(f\"{metric}: {value}\")\n",
        "    \n",
        "    print(f\"Best mAP: {best_map:.4f}\")\n",
        "    print(f\"Models saved in: {run_dir}\")"
      ]
    }
  ],
  "metadata": {
    "accelerator": "GPU",
    "colab": {
      "gpuType": "T4",
      "include_colab_link": true,
      "provenance": []
    },
    "kernelspec": {
      "display_name": "Python 3",
      "name": "python3"
    },
    "language_info": {
      "codemirror_mode": {
        "name": "ipython",
        "version": 3
      },
      "file_extension": ".py",
      "mimetype": "text/x-python",
      "name": "python",
      "nbconvert_exporter": "python",
      "pygments_lexer": "ipython3",
      "version": "3.11.9"
    }
  },
  "nbformat": 4,
  "nbformat_minor": 0
}
